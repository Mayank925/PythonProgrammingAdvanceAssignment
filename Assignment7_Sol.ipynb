{
 "cells": [
  {
   "cell_type": "code",
   "execution_count": 1,
   "metadata": {},
   "outputs": [
    {
     "name": "stdout",
     "output_type": "stream",
     "text": [
      "2\n",
      "3\n",
      "5\n"
     ]
    }
   ],
   "source": [
    "##1. Count Layers:\n",
    "def count_layers(rug):\n",
    "    return len(set(rug))\n",
    "\n",
    "# Examples\n",
    "print(count_layers([\n",
    "  \"AAAA\",\n",
    "  \"ABBA\",\n",
    "  \"AAAA\"\n",
    "])) \n",
    "\n",
    "print(count_layers([\n",
    "  \"AAAAAAAAA\",\n",
    "  \"ABBBBBBBA\",\n",
    "  \"ABBAAABBA\",\n",
    "  \"ABBBBBBBA\",\n",
    "  \"AAAAAAAAA\"\n",
    "]))\n",
    "\n",
    "print(count_layers([\n",
    "  \"AAAAAAAAAAA\",\n",
    "  \"AABBBBBBBAA\",\n",
    "  \"AABCCCCCBAA\",\n",
    "  \"AABCAAACBAA\",\n",
    "  \"AABCADACBAA\",\n",
    "  \"AABCAAACBAA\",\n",
    "  \"AABCCCCCBAA\",\n",
    "  \"AABBBBBBBAA\",\n",
    "  \"AAAAAAAAAAA\"\n",
    "]))\n"
   ]
  },
  {
   "cell_type": "code",
   "execution_count": 2,
   "metadata": {},
   "outputs": [
    {
     "name": "stdout",
     "output_type": "stream",
     "text": [
      "9\n",
      "7\n"
     ]
    }
   ],
   "source": [
    "##2. Unique Styles:\n",
    "def unique_styles(albums):\n",
    "    styles = set()\n",
    "    for album in albums:\n",
    "        styles.update(album.split(','))\n",
    "    return len(styles)\n",
    "\n",
    "# Examples\n",
    "print(unique_styles([\n",
    "  \"Dub,Dancehall\",\n",
    "  \"Industrial,Heavy Metal\",\n",
    "  \"Techno,Dubstep\",\n",
    "  \"Synth-pop,Euro-Disco\",\n",
    "  \"Industrial,Techno,Minimal\"\n",
    "])) \n",
    "\n",
    "print(unique_styles([\n",
    "  \"Soul\",\n",
    "  \"House,Folk\",\n",
    "  \"Trance,Downtempo,Big Beat,House\",\n",
    "  \"Deep House\",\n",
    "  \"Soul\"\n",
    "])) \n"
   ]
  },
  {
   "cell_type": "code",
   "execution_count": 3,
   "metadata": {},
   "outputs": [
    {
     "name": "stdout",
     "output_type": "stream",
     "text": [
      "yes\n",
      "no\n",
      "yes\n",
      "no\n"
     ]
    }
   ],
   "source": [
    "##3. Binary Search for Primes:\n",
    "def is_prime(primes, target):\n",
    "    low, high = 0, len(primes) - 1\n",
    "    while low <= high:\n",
    "        mid = (low + high) // 2\n",
    "        if primes[mid] == target:\n",
    "            return \"yes\"\n",
    "        elif primes[mid] < target:\n",
    "            low = mid + 1\n",
    "        else:\n",
    "            high = mid - 1\n",
    "    return \"no\"\n",
    "\n",
    "# Example\n",
    "primes = [2, 3, 5, 7, 11, 13, 17, 19, 23, 29, 31, 37, 41, 43, 47, 53, 59, 61, 67, 71, 73, 79, 83, 89, 97]\n",
    "print(is_prime(primes, 3))  \n",
    "print(is_prime(primes, 4))  \n",
    "print(is_prime(primes, 67)) \n",
    "print(is_prime(primes, 36)) \n"
   ]
  },
  {
   "cell_type": "code",
   "execution_count": 4,
   "metadata": {},
   "outputs": [
    {
     "name": "stdout",
     "output_type": "stream",
     "text": [
      "2\n",
      "3\n",
      "1\n",
      "1\n",
      "3\n"
     ]
    }
   ],
   "source": [
    "##4. Power Ranger:\n",
    "def power_ranger(n, a, b):\n",
    "    count = 0\n",
    "    root_a = int(a ** (1/n))\n",
    "    root_b = int(b ** (1/n))\n",
    "    for i in range(root_a, root_b + 1):\n",
    "        if a <= i ** n <= b:\n",
    "            count += 1\n",
    "    return count\n",
    "\n",
    "# Examples\n",
    "print(power_ranger(2, 49, 65))  \n",
    "print(power_ranger(3, 1, 27))   \n",
    "print(power_ranger(10, 1, 5))   \n",
    "print(power_ranger(5, 31, 33))  \n",
    "print(power_ranger(4, 250, 1300)) \n"
   ]
  },
  {
   "cell_type": "code",
   "execution_count": 5,
   "metadata": {},
   "outputs": [
    {
     "name": "stdout",
     "output_type": "stream",
     "text": [
      "760833\n",
      "7709823\n",
      "90981\n"
     ]
    }
   ],
   "source": [
    "##5. Rearranged Difference:\n",
    "def rearranged_difference(num):\n",
    "    num_str = str(num)\n",
    "    max_num = int(''.join(sorted(num_str, reverse=True)))\n",
    "    min_num = int(''.join(sorted(num_str)))\n",
    "    return max_num - min_num\n",
    "\n",
    "# Examples\n",
    "print(rearranged_difference(972882))    \n",
    "print(rearranged_difference(3320707))   \n",
    "print(rearranged_difference(90010))     \n"
   ]
  },
  {
   "cell_type": "code",
   "execution_count": null,
   "metadata": {},
   "outputs": [],
   "source": []
  }
 ],
 "metadata": {
  "kernelspec": {
   "display_name": "Python 3",
   "language": "python",
   "name": "python3"
  },
  "language_info": {
   "codemirror_mode": {
    "name": "ipython",
    "version": 3
   },
   "file_extension": ".py",
   "mimetype": "text/x-python",
   "name": "python",
   "nbconvert_exporter": "python",
   "pygments_lexer": "ipython3",
   "version": "3.8.5"
  }
 },
 "nbformat": 4,
 "nbformat_minor": 4
}
