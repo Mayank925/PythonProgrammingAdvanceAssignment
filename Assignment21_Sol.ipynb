{
 "cells": [
  {
   "cell_type": "code",
   "execution_count": 1,
   "metadata": {},
   "outputs": [
    {
     "name": "stdout",
     "output_type": "stream",
     "text": [
      "0\n",
      "0\n",
      "2\n"
     ]
    }
   ],
   "source": [
    "##1. Count Same Ends:\n",
    "def count_same_ends(sentence):\n",
    "    words = sentence.split()\n",
    "    return sum(1 for word in words if word and word[0].lower() == word[-1].lower())\n",
    "\n",
    "# Examples\n",
    "print(count_same_ends(\"Pop! goes the balloon\")) \n",
    "print(count_same_ends(\"And the crowd goes wild!\")) \n",
    "print(count_same_ends(\"No I am not in a gang.\")) \n"
   ]
  },
  {
   "cell_type": "code",
   "execution_count": 2,
   "metadata": {},
   "outputs": [
    {
     "name": "stdout",
     "output_type": "stream",
     "text": [
      "zkkov\n",
      "Svool dliow!\n",
      "Xsirhgnzh rh gsv 25gs lu Wvxvnyvi\n"
     ]
    }
   ],
   "source": [
    "##2. Atbash Cipher:\n",
    "def atbash(s):\n",
    "    result = \"\"\n",
    "    for char in s:\n",
    "        if char.isalpha():\n",
    "            result += chr(155 - ord(char)) if char.isupper() else chr(219 - ord(char))\n",
    "        else:\n",
    "            result += char\n",
    "    return result\n",
    "\n",
    "# Examples\n",
    "print(atbash(\"apple\")) \n",
    "print(atbash(\"Hello world!\")) \n",
    "print(atbash(\"Christmas is the 25th of December\"))"
   ]
  },
  {
   "cell_type": "code",
   "execution_count": 3,
   "metadata": {},
   "outputs": [
    {
     "name": "stdout",
     "output_type": "stream",
     "text": [
      "John\n",
      "Major\n",
      "178\n",
      "Italian\n"
     ]
    }
   ],
   "source": [
    "##3. Employee Class:\n",
    "class Employee:\n",
    "    def __init__(self, full_name, **kwargs):\n",
    "        self.name, self.lastname = full_name.split()\n",
    "        for key, value in kwargs.items():\n",
    "            setattr(self, key, value)\n",
    "\n",
    "# Examples\n",
    "john = Employee(\"John Doe\")\n",
    "mary = Employee(\"Mary Major\", salary=120000)\n",
    "richard = Employee(\"Richard Roe\", salary=110000, height=178)\n",
    "giancarlo = Employee(\"Giancarlo Rossi\", salary=115000, height=182, nationality=\"Italian\")\n",
    "\n",
    "print(john.name)  \n",
    "print(mary.lastname) \n",
    "print(richard.height)\n",
    "print(giancarlo.nationality)  "
   ]
  },
  {
   "cell_type": "code",
   "execution_count": 4,
   "metadata": {},
   "outputs": [
    {
     "name": "stdout",
     "output_type": "stream",
     "text": [
      "False\n",
      "False\n",
      "False\n",
      "False\n"
     ]
    }
   ],
   "source": [
    "##4. Can See Stage:\n",
    "def can_see_stage(seating):\n",
    "    return all(seating[i][j] > seating[i+1][j] for i in range(len(seating)-1) for j in range(len(seating[0])))\n",
    "\n",
    "# Examples\n",
    "print(can_see_stage([[1, 2, 3], [4, 5, 6], [7, 8, 9]]))  \n",
    "print(can_see_stage([[0, 0, 0], [1, 1, 1], [2, 2, 2]]))  \n",
    "print(can_see_stage([[2, 0, 0], [1, 1, 1], [2, 2, 2]])) \n",
    "print(can_see_stage([[1, 0, 0], [1, 1, 1], [2, 2, 2]])) \n"
   ]
  },
  {
   "cell_type": "code",
   "execution_count": 5,
   "metadata": {},
   "outputs": [
    {
     "name": "stdout",
     "output_type": "stream",
     "text": [
      "['bacon', 'parmesan', 'ham']\n",
      "['spinach', 'olives', 'mushroom']\n",
      "1\n",
      "2\n"
     ]
    }
   ],
   "source": [
    "##5. Pizza Class:\n",
    "class Pizza:\n",
    "    order_number = 0\n",
    "    \n",
    "    def __init__(self, ingredients):\n",
    "        Pizza.order_number += 1\n",
    "        self.order_number = Pizza.order_number\n",
    "        self.ingredients = ingredients\n",
    "    \n",
    "    @classmethod\n",
    "    def hawaiian(cls):\n",
    "        return cls([\"ham\", \"pineapple\"])\n",
    "    \n",
    "    @classmethod\n",
    "    def meat_festival(cls):\n",
    "        return cls([\"beef\", \"meatball\", \"bacon\"])\n",
    "    \n",
    "    @classmethod\n",
    "    def garden_feast(cls):\n",
    "        return cls([\"spinach\", \"olives\", \"mushroom\"])\n",
    "\n",
    "# Examples\n",
    "p1 = Pizza([\"bacon\", \"parmesan\", \"ham\"])\n",
    "p2 = Pizza.garden_feast() \n",
    "\n",
    "print(p1.ingredients) \n",
    "print(p2.ingredients) \n",
    "print(p1.order_number) \n",
    "print(p2.order_number) \n"
   ]
  },
  {
   "cell_type": "code",
   "execution_count": null,
   "metadata": {},
   "outputs": [],
   "source": []
  }
 ],
 "metadata": {
  "kernelspec": {
   "display_name": "Python 3",
   "language": "python",
   "name": "python3"
  },
  "language_info": {
   "codemirror_mode": {
    "name": "ipython",
    "version": 3
   },
   "file_extension": ".py",
   "mimetype": "text/x-python",
   "name": "python",
   "nbconvert_exporter": "python",
   "pygments_lexer": "ipython3",
   "version": "3.8.5"
  }
 },
 "nbformat": 4,
 "nbformat_minor": 4
}
