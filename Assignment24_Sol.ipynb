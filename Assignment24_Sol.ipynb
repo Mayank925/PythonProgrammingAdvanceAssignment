{
 "cells": [
  {
   "cell_type": "code",
   "execution_count": 1,
   "metadata": {},
   "outputs": [
    {
     "name": "stdout",
     "output_type": "stream",
     "text": [
      "[1, 1, 2, 1, 1]\n",
      "[1, 4, 6]\n",
      "[]\n"
     ]
    }
   ],
   "source": [
    "##1. NestedIterator Class:\n",
    "class NestedIterator:\n",
    "    def __init__(self, nested_list):\n",
    "        self.flatten_list = self.flatten(nested_list)\n",
    "        self.index = 0\n",
    "\n",
    "    def flatten(self, nested_list):\n",
    "        result = []\n",
    "        for item in nested_list:\n",
    "            if isinstance(item, list):\n",
    "                result.extend(self.flatten(item))\n",
    "            else:\n",
    "                result.append(item)\n",
    "        return result\n",
    "\n",
    "    def hasNext(self):\n",
    "        return self.index < len(self.flatten_list)\n",
    "\n",
    "    def next(self):\n",
    "        if self.hasNext():\n",
    "            value = self.flatten_list[self.index]\n",
    "            self.index += 1\n",
    "            return value\n",
    "\n",
    "# Examples\n",
    "ni1 = NestedIterator([[1, 1], 2, [1, 1]])\n",
    "actual1 = []\n",
    "while ni1.hasNext():\n",
    "    actual1.append(ni1.next())\n",
    "print(actual1) \n",
    "\n",
    "ni2 = NestedIterator([1, [4, [6]]])\n",
    "actual2 = []\n",
    "while ni2.hasNext():\n",
    "    actual2.append(ni2.next())\n",
    "print(actual2)  \n",
    "\n",
    "ni3 = NestedIterator([[[]], []])\n",
    "actual3 = []\n",
    "while ni3.hasNext():\n",
    "    actual3.append(ni3.next())\n",
    "print(actual3)  \n"
   ]
  },
  {
   "cell_type": "code",
   "execution_count": 2,
   "metadata": {},
   "outputs": [
    {
     "name": "stdout",
     "output_type": "stream",
     "text": [
      "2.0\n",
      "2400\n",
      "(2.9, 2.1)\n"
     ]
    }
   ],
   "source": [
    "##2. Shape Class:\n",
    "class Shape:\n",
    "    def __init__(self, corners, density):\n",
    "        self.corners = corners\n",
    "        self.density = density\n",
    "        self.area = self.calculate_area()\n",
    "        self.mass = self.calculate_mass()\n",
    "        self.mass_center = self.calculate_mass_center()\n",
    "\n",
    "    def calculate_area(self):\n",
    "        return 0.5 * abs(sum((x0 * y1 - x1 * y0) for ((x0, y0), (x1, y1)) in zip(self.corners, self.corners[1:] + [self.corners[0]])))\n",
    "\n",
    "    def calculate_mass(self):\n",
    "        return sum(self.density(x, y) * 2 for (x, y) in self.corners)\n",
    "\n",
    "    def calculate_mass_center(self):\n",
    "        total_mass = 0\n",
    "        xc, yc = 0, 0\n",
    "\n",
    "        for i in range(len(self.corners)):\n",
    "            (x0, y0), (x1, y1) = self.corners[i - 1], self.corners[i]\n",
    "            small_square = 0.5 * (x0 * y1 - x1 * y0)\n",
    "            local_mass = small_square * self.density((x0 + x1) / 2, (y0 + y1) / 2)\n",
    "            total_mass += local_mass\n",
    "            xc += local_mass * (x0 + x1) / 2\n",
    "            yc += local_mass * (y0 + y1) / 2\n",
    "\n",
    "        xc /= total_mass\n",
    "        yc /= total_mass\n",
    "\n",
    "        return round(xc, 1), round(yc, 1)\n",
    "\n",
    "# Example\n",
    "sh_ex1 = Shape([(1, 1), (3, 1), (3, 2), (1, 2)], lambda x, y: 100 + 100 * x)\n",
    "print(sh_ex1.area) \n",
    "print(sh_ex1.mass)\n",
    "print(sh_ex1.mass_center)  \n"
   ]
  },
  {
   "cell_type": "code",
   "execution_count": 3,
   "metadata": {},
   "outputs": [
    {
     "name": "stdout",
     "output_type": "stream",
     "text": [
      "X\n",
      "O\n",
      "Draw\n"
     ]
    }
   ],
   "source": [
    "##3. Tic-Tac-Toe Function:\n",
    "def tic_tac_toe(matrix):\n",
    "    for row in matrix:\n",
    "        if row.count(\"X\") == 3:\n",
    "            return \"X\"\n",
    "        elif row.count(\"O\") == 3:\n",
    "            return \"O\"\n",
    "\n",
    "    for col in zip(*matrix):\n",
    "        if col.count(\"X\") == 3:\n",
    "            return \"X\"\n",
    "        elif col.count(\"O\") == 3:\n",
    "            return \"O\"\n",
    "\n",
    "    if matrix[0][0] == matrix[1][1] == matrix[2][2] or matrix[0][2] == matrix[1][1] == matrix[2][0]:\n",
    "        if matrix[1][1] == \"X\":\n",
    "            return \"X\"\n",
    "        elif matrix[1][1] == \"O\":\n",
    "            return \"O\"\n",
    "\n",
    "    return \"Draw\"\n",
    "\n",
    "# Examples\n",
    "print(tic_tac_toe([\n",
    "  [\"X\", \"O\", \"X\"],\n",
    "  [\"O\", \"X\",  \"O\"],\n",
    "  [\"O\", \"X\",  \"X\"]\n",
    "])) \n",
    "\n",
    "print(tic_tac_toe([\n",
    "  [\"O\", \"O\", \"O\"],\n",
    "  [\"O\", \"X\", \"X\"],\n",
    "  [\"E\", \"X\", \"X\"]\n",
    "])) \n",
    "\n",
    "print(tic_tac_toe([\n",
    "  [\"X\", \"X\", \"O\"],\n",
    "  [\"O\", \"O\", \"X\"],\n",
    "  [\"X\", \"X\", \"O\"]\n",
    "])) \n"
   ]
  },
  {
   "cell_type": "code",
   "execution_count": 4,
   "metadata": {},
   "outputs": [
    {
     "name": "stdout",
     "output_type": "stream",
     "text": [
      "PC Files: spotifysetup.exe, dog.jpg\n",
      "PC Files: cat.pdf\n",
      "PC Files: funnycat.gif\n"
     ]
    }
   ],
   "source": [
    "##4. Remove Virus Function:\n",
    "def remove_virus(files):\n",
    "    file_list = files.split(\":\")[1].strip().split(\", \")\n",
    "    clean_files = [file for file in file_list if \"virus\" not in file.lower() and \"malware\" not in file.lower()]\n",
    "    return f\"PC Files: {', '.join(clean_files)}\"\n",
    "\n",
    "# Examples\n",
    "print(remove_virus(\"PC Files: spotifysetup.exe, virus.exe, dog.jpg\")) \n",
    "print(remove_virus(\"PC Files: antivirus.exe, cat.pdf, lethalmalware.exe, dangerousvirus.exe \")) \n",
    "print(remove_virus(\"PC Files: notvirus.exe, funnycat.gif\"))\n"
   ]
  },
  {
   "cell_type": "code",
   "execution_count": 5,
   "metadata": {},
   "outputs": [
    {
     "name": "stdout",
     "output_type": "stream",
     "text": [
      "False\n",
      "True\n",
      "False\n"
     ]
    }
   ],
   "source": [
    "##5. Will Hit Function:\n",
    "import re\n",
    "\n",
    "def will_hit(trajectory, position):\n",
    "    x, y = position\n",
    "    match = re.match(r\"y = (.*)x ([+-]) (.*)\", trajectory)\n",
    "    \n",
    "    if match:\n",
    "        m, sign, b = map(str.strip, match.groups())\n",
    "        m, b = int(m), int(b)\n",
    "        \n",
    "        if sign == '-':\n",
    "            m = -m\n",
    "\n",
    "        return y == (m * x + b)\n",
    "\n",
    "    return False\n",
    "\n",
    "# Examples\n",
    "print(will_hit(\"y = 2x - 5\", (0, 0))) \n",
    "print(will_hit(\"y = -4x + 6\", (1, 2)))\n",
    "print(will_hit(\"y = 2x + 6\", (3, 2))) \n"
   ]
  },
  {
   "cell_type": "code",
   "execution_count": null,
   "metadata": {},
   "outputs": [],
   "source": []
  }
 ],
 "metadata": {
  "kernelspec": {
   "display_name": "Python 3",
   "language": "python",
   "name": "python3"
  },
  "language_info": {
   "codemirror_mode": {
    "name": "ipython",
    "version": 3
   },
   "file_extension": ".py",
   "mimetype": "text/x-python",
   "name": "python",
   "nbconvert_exporter": "python",
   "pygments_lexer": "ipython3",
   "version": "3.8.5"
  }
 },
 "nbformat": 4,
 "nbformat_minor": 4
}
