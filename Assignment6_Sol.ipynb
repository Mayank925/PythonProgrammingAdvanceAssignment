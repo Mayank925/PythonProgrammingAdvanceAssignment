{
 "cells": [
  {
   "cell_type": "code",
   "execution_count": 2,
   "metadata": {},
   "outputs": [
    {
     "name": "stdout",
     "output_type": "stream",
     "text": [
      "e\n",
      "y\n",
      "a\n"
     ]
    }
   ],
   "source": [
    "##1. Find the Difference:\n",
    "def find_the_difference(s, t):\n",
    "    for char in t:\n",
    "        if t.count(char) != s.count(char):\n",
    "            return char\n",
    "\n",
    "# Examples\n",
    "print(find_the_difference(\"abcd\", \"abcde\")) \n",
    "print(find_the_difference(\"\", \"y\"))     \n",
    "print(find_the_difference(\"ae\", \"aea\"))  \n"
   ]
  },
  {
   "cell_type": "code",
   "execution_count": 3,
   "metadata": {},
   "outputs": [
    {
     "name": "stdout",
     "output_type": "stream",
     "text": [
      "[3, 1, 0, 0, 0, 0]\n",
      "[3, 0, 0, 1, 1, 0]\n",
      "[5, 2, 0, 1, 0, 2]\n",
      "[3, 0, 0, 2, 2, 0]\n"
     ]
    }
   ],
   "source": [
    "##2.Count Data Types:\n",
    "def count_datatypes(*args):\n",
    "    count = [0, 0, 0, 0, 0, 0]\n",
    "    for arg in args:\n",
    "        if isinstance(arg, int):\n",
    "            count[0] += 1\n",
    "        elif isinstance(arg, str):\n",
    "            count[1] += 1\n",
    "        elif isinstance(arg, bool):\n",
    "            count[2] += 1\n",
    "        elif isinstance(arg, list):\n",
    "            count[3] += 1\n",
    "        elif isinstance(arg, tuple):\n",
    "            count[4] += 1\n",
    "        elif isinstance(arg, dict):\n",
    "            count[5] += 1\n",
    "    return count\n",
    "\n",
    "# Examples\n",
    "print(count_datatypes(1, 45, \"Hi\", False)) \n",
    "print(count_datatypes([10, 20], (\"t\", \"Ok\"), 2, 3, 1)) \n",
    "print(count_datatypes(\"Hello\", \"Bye\", True, True, False, {\"1\": \"One\", \"2\": \"Two\"}, [1, 3], {\"Brayan\": 18}, 25, 23)) \n",
    "print(count_datatypes(4, 21, (\"ES\", \"EN\"), (\"a\", \"b\"), False, [1, 2, 3], [4, 5, 6])) \n"
   ]
  },
  {
   "cell_type": "code",
   "execution_count": 4,
   "metadata": {},
   "outputs": [
    {
     "name": "stdout",
     "output_type": "stream",
     "text": [
      "j, h, hj\n",
      "e, a, ae, aea, aeaae\n",
      "n, k, kn, knk, knkkn, knkknknk\n"
     ]
    }
   ],
   "source": [
    "##3. Fibonacci String:\n",
    "def fib_str(n, init):\n",
    "    fib_sequence = init\n",
    "    while len(fib_sequence) < n:\n",
    "        fib_sequence.append(fib_sequence[-1] + fib_sequence[-2])\n",
    "    return ', '.join(map(str, fib_sequence))\n",
    "\n",
    "# Examples\n",
    "print(fib_str(3, [\"j\", \"h\"]))  \n",
    "print(fib_str(5, [\"e\", \"a\"]))  \n",
    "print(fib_str(6, [\"n\", \"k\"])) \n"
   ]
  },
  {
   "cell_type": "code",
   "execution_count": 5,
   "metadata": {},
   "outputs": [
    {
     "name": "stdout",
     "output_type": "stream",
     "text": [
      "nines:1, threes:0, ones:1\n",
      "nines:1, threes:2, ones:0\n",
      "nines:2, threes:1, ones:1\n"
     ]
    }
   ],
   "source": [
    "##4. Ones, Threes, Nines:\n",
    "def ones_threes_nines(num):\n",
    "    nines = num // 9\n",
    "    num %= 9\n",
    "    threes = num // 3\n",
    "    num %= 3\n",
    "    ones = num\n",
    "    return f\"nines:{nines}, threes:{threes}, ones:{ones}\"\n",
    "\n",
    "# Examples\n",
    "print(ones_threes_nines(10)) \n",
    "print(ones_threes_nines(15)) \n",
    "print(ones_threes_nines(22)) \n"
   ]
  },
  {
   "cell_type": "code",
   "execution_count": 1,
   "metadata": {},
   "outputs": [
    {
     "name": "stdout",
     "output_type": "stream",
     "text": [
      "8\n",
      "1\n",
      "1\n"
     ]
    }
   ],
   "source": [
    "##5.Non-Recursive Fibonacci:\n",
    "def fib(n):\n",
    "    if n <= 1:\n",
    "        return n\n",
    "    a, b = 0, 1\n",
    "    for _ in range(2, n + 1):\n",
    "        a, b = b, a + b\n",
    "    return b\n",
    "\n",
    "# Examples\n",
    "print(fib(6))  # 8\n",
    "print(fib(1))  # 1\n",
    "print(fib(2))  # 1\n"
   ]
  },
  {
   "cell_type": "code",
   "execution_count": null,
   "metadata": {},
   "outputs": [],
   "source": []
  }
 ],
 "metadata": {
  "kernelspec": {
   "display_name": "Python 3",
   "language": "python",
   "name": "python3"
  },
  "language_info": {
   "codemirror_mode": {
    "name": "ipython",
    "version": 3
   },
   "file_extension": ".py",
   "mimetype": "text/x-python",
   "name": "python",
   "nbconvert_exporter": "python",
   "pygments_lexer": "ipython3",
   "version": "3.8.5"
  }
 },
 "nbformat": 4,
 "nbformat_minor": 4
}
