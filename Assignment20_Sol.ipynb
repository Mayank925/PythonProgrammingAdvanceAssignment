{
 "cells": [
  {
   "cell_type": "code",
   "execution_count": 1,
   "metadata": {},
   "outputs": [
    {
     "name": "stdout",
     "output_type": "stream",
     "text": [
      "<p class='one'></p>\n",
      "<p class='one'></p>\n",
      "<p class='four'></p>\n"
     ]
    }
   ],
   "source": [
    "##1. Secret Function:\n",
    "def secret(s):\n",
    "    classes = s.split('.')[1:]\n",
    "    result = f\"<p class='{classes[0]}'></p>\" if classes else \"invalid\"\n",
    "    return result\n",
    "\n",
    "# Examples\n",
    "print(secret(\"p.one.two.three\"))  \n",
    "print(secret(\"p.one\")) \n",
    "print(secret(\"p.four.five\"))\n"
   ]
  },
  {
   "cell_type": "code",
   "execution_count": 2,
   "metadata": {},
   "outputs": [
    {
     "name": "stdout",
     "output_type": "stream",
     "text": [
      "0\n",
      "0\n",
      "0\n",
      "0\n"
     ]
    }
   ],
   "source": [
    "##2. Count Lone 1s:\n",
    "def count_lone_ones(num):\n",
    "    num_str = str(num)\n",
    "    return sum([1 for i in range(1, len(num_str)-1) if num_str[i] == '1' and num_str[i-1] != '1' and num_str[i+1] != '1'])\n",
    "\n",
    "# Examples\n",
    "print(count_lone_ones(101))\n",
    "print(count_lone_ones(1191))\n",
    "print(count_lone_ones(1111))\n",
    "print(count_lone_ones(462)) "
   ]
  },
  {
   "cell_type": "code",
   "execution_count": 3,
   "metadata": {},
   "outputs": [
    {
     "name": "stdout",
     "output_type": "stream",
     "text": [
      "[[1, 4, 7, 10, 13, 16], [2, 5, 8, 11, 14, 17], [3, 6, 9, 12, 15, 18]]\n",
      "[[1, 6, 11], [2, 7, 12], [3, 8, 13], [4, 9, 14], [5, 10, 15]]\n",
      "[[1], [2], [3], [4]]\n"
     ]
    }
   ],
   "source": [
    "##3. Print Grid:\n",
    "def printGrid(rows, cols):\n",
    "    return [[i + j * rows + 1 for j in range(cols)] for i in range(rows)]\n",
    "\n",
    "# Examples\n",
    "print(printGrid(3, 6))\n",
    "print(printGrid(5, 3))\n",
    "print(printGrid(4, 1))\n"
   ]
  },
  {
   "cell_type": "code",
   "execution_count": 4,
   "metadata": {},
   "outputs": [
    {
     "name": "stdout",
     "output_type": "stream",
     "text": [
      "8\n",
      "2\n",
      "1\n"
     ]
    }
   ],
   "source": [
    "##4. Minimum Missing Positive:\n",
    "def min_miss_pos(lst):\n",
    "    sorted_lst = sorted(set([num for num in lst if num > 0]))\n",
    "    for i, num in enumerate(sorted_lst, start=1):\n",
    "        if i != num:\n",
    "            return i\n",
    "    return i + 1\n",
    "\n",
    "# Examples\n",
    "print(min_miss_pos([-2, 6, 4, 5, 7, -1, 1, 3, 6, -2, 9, 10, 2, 2]))  # 8\n",
    "print(min_miss_pos([5, 9, -2, 0, 1, 3, 9, 3, 8, 9]))  # 2\n",
    "print(min_miss_pos([0, 4, 4, -1, 9, 4, 5, 2, 10, 7, 6, 3, 10, 9]))  # 1\n"
   ]
  },
  {
   "cell_type": "code",
   "execution_count": 5,
   "metadata": {},
   "outputs": [
    {
     "name": "stdout",
     "output_type": "stream",
     "text": [
      "['Spider-Man']\n",
      "['Batman', 'Spider-Man']\n",
      "[]\n"
     ]
    }
   ],
   "source": [
    "##5. Pizza Points:\n",
    "def pizza_points(customers, min_orders, min_price):\n",
    "    eligible_customers = [customer for customer, orders in customers.items() if len([order for order in orders if order >= min_price]) >= min_orders]\n",
    "    return eligible_customers\n",
    "\n",
    "# Examples\n",
    "customers = {\n",
    "  \"Batman\": [22, 30, 11, 17, 15, 52, 27, 12],\n",
    "  \"Spider-Man\": [5, 17, 30, 33, 40, 22, 26, 10, 11, 45]\n",
    "}\n",
    "\n",
    "print(pizza_points(customers, 5, 20)) \n",
    "print(pizza_points(customers, 3, 10)) \n",
    "print(pizza_points(customers, 5, 100))\n"
   ]
  },
  {
   "cell_type": "code",
   "execution_count": null,
   "metadata": {},
   "outputs": [],
   "source": []
  }
 ],
 "metadata": {
  "kernelspec": {
   "display_name": "Python 3",
   "language": "python",
   "name": "python3"
  },
  "language_info": {
   "codemirror_mode": {
    "name": "ipython",
    "version": 3
   },
   "file_extension": ".py",
   "mimetype": "text/x-python",
   "name": "python",
   "nbconvert_exporter": "python",
   "pygments_lexer": "ipython3",
   "version": "3.8.5"
  }
 },
 "nbformat": 4,
 "nbformat_minor": 4
}
