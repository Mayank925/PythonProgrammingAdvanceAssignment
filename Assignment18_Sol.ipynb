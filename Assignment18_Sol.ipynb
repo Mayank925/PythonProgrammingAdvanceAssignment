{
 "cells": [
  {
   "cell_type": "code",
   "execution_count": 1,
   "metadata": {},
   "outputs": [
    {
     "name": "stdout",
     "output_type": "stream",
     "text": [
      "[-20, 40]\n",
      "[0, 0]\n",
      "[200, 10500]\n"
     ]
    }
   ],
   "source": [
    "##1. Track Robot:\n",
    "def track_robot(instructions):\n",
    "    position = [0, 0]\n",
    "    for instruction in instructions:\n",
    "        direction, distance = instruction.split()\n",
    "        distance = int(distance)\n",
    "        if direction == \"up\":\n",
    "            position[1] += distance\n",
    "        elif direction == \"down\":\n",
    "            position[1] -= distance\n",
    "        elif direction == \"left\":\n",
    "            position[0] -= distance\n",
    "        elif direction == \"right\":\n",
    "            position[0] += distance\n",
    "    return position\n",
    "\n",
    "# Examples\n",
    "print(track_robot([\"right 10\", \"up 50\", \"left 30\", \"down 10\"]))\n",
    "print(track_robot([])) \n",
    "print(track_robot([\"right 100\", \"right 100\", \"up 500\", \"up 10000\"]))\n"
   ]
  },
  {
   "cell_type": "code",
   "execution_count": 2,
   "metadata": {},
   "outputs": [
    {
     "name": "stdout",
     "output_type": "stream",
     "text": [
      "forever\n",
      "Forgetfulness\n",
      "Strengths\n"
     ]
    }
   ],
   "source": [
    "##2. Find Longest Word:\n",
    "import re\n",
    "\n",
    "def find_longest(sentence):\n",
    "    words = re.findall(r'\\b\\w+\\b', sentence)\n",
    "    return max(words, key=len)\n",
    "\n",
    "# Examples\n",
    "print(find_longest(\"A thing of beauty is a joy forever.\"))  \n",
    "print(find_longest(\"Forgetfulness is by all means powerless!\")) \n",
    "print(find_longest(\"\\\"Strengths\\\" is the longest and most commonly used word that contains only a single vowel.\"))\n"
   ]
  },
  {
   "cell_type": "code",
   "execution_count": 3,
   "metadata": {},
   "outputs": [
    {
     "name": "stdout",
     "output_type": "stream",
     "text": [
      "qualified\n",
      "disqualified\n",
      "disqualified\n",
      "disqualified\n",
      "disqualified\n"
     ]
    }
   ],
   "source": [
    "##3. Interview Qualification:\n",
    "def interview(times, total_time):\n",
    "    question_times = [5, 5, 10, 10, 15, 15, 20, 20]\n",
    "    if times == question_times and total_time <= 120:\n",
    "        return \"qualified\"\n",
    "    else:\n",
    "        return \"disqualified\"\n",
    "\n",
    "# Examples\n",
    "print(interview([5, 5, 10, 10, 15, 15, 20, 20], 120))\n",
    "print(interview([2, 3, 8, 6, 5, 12, 10, 18], 64)) \n",
    "print(interview([5, 5, 10, 10, 25, 15, 20, 20], 120)) \n",
    "print(interview([5, 5, 10, 10, 15, 15, 20], 120)) \n",
    "print(interview([5, 5, 10, 10, 15, 15, 20, 20], 130))\n"
   ]
  },
  {
   "cell_type": "code",
   "execution_count": 4,
   "metadata": {},
   "outputs": [
    {
     "name": "stdout",
     "output_type": "stream",
     "text": [
      "[[2, 3], [4, 5]]\n",
      "[[2, 3], [4, 5], [6]]\n",
      "[[2, 3, 4], [5, 6, 7]]\n",
      "[[2], [3], [4], [5], [6], [7]]\n",
      "[[2, 3, 4, 5, 6, 7]]\n"
     ]
    }
   ],
   "source": [
    "##4. Chunkify:\n",
    "def chunkify(lst, n):\n",
    "    return [lst[i:i + n] for i in range(0, len(lst), n)]\n",
    "\n",
    "# Examples\n",
    "print(chunkify([2, 3, 4, 5], 2))  \n",
    "print(chunkify([2, 3, 4, 5, 6], 2))\n",
    "print(chunkify([2, 3, 4, 5, 6, 7], 3))\n",
    "print(chunkify([2, 3, 4, 5, 6, 7], 1))\n",
    "print(chunkify([2, 3, 4, 5, 6, 7], 7))\n"
   ]
  },
  {
   "cell_type": "code",
   "execution_count": null,
   "metadata": {},
   "outputs": [],
   "source": [
    "##5. Get Prices:\n",
    "def get_prices(groceries):\n",
    "    prices = [float(re.search(r'\\((\\d+\\.\\d+)\\)', item).group(1)) for item in groceries]\n",
    "    return prices\n",
    "\n",
    "# Examples\n",
    "print(get_prices([\"salad ($4.99)\"])) \n",
    "print(get_prices([\"artichokes ($1.99)\", \"rotiserrie chicken ($5.99)\", \"gum ($0.75)\"])) \n",
    "print(get_prices([\"ice cream ($5.99)\", \"banana ($0.20)\", \"sandwich ($8.50)\", \"soup ($1.99)\"])) \n"
   ]
  },
  {
   "cell_type": "code",
   "execution_count": null,
   "metadata": {},
   "outputs": [],
   "source": []
  }
 ],
 "metadata": {
  "kernelspec": {
   "display_name": "Python 3",
   "language": "python",
   "name": "python3"
  },
  "language_info": {
   "codemirror_mode": {
    "name": "ipython",
    "version": 3
   },
   "file_extension": ".py",
   "mimetype": "text/x-python",
   "name": "python",
   "nbconvert_exporter": "python",
   "pygments_lexer": "ipython3",
   "version": "3.8.5"
  }
 },
 "nbformat": 4,
 "nbformat_minor": 4
}
