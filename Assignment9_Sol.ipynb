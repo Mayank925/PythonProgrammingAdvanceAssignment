{
 "cells": [
  {
   "cell_type": "code",
   "execution_count": null,
   "metadata": {},
   "outputs": [],
   "source": [
    "##1. Playback Duration:\n",
    "from datetime import datetime, timedelta\n",
    "\n",
    "def playback_duration(duration, speed):\n",
    "    original_duration = datetime.strptime(duration, \"%H:%M:%S\")\n",
    "    new_duration_seconds = original_duration.total_seconds() / speed\n",
    "    new_duration = timedelta(seconds=new_duration_seconds)\n",
    "    return str(new_duration).split()[2]\n",
    "\n",
    "# Examples\n",
    "print(playback_duration(\"00:30:00\", 2))    \n",
    "print(playback_duration(\"01:20:00\", 1.5))  \n",
    "print(playback_duration(\"51:20:09\", 0.5))  \n"
   ]
  },
  {
   "cell_type": "code",
   "execution_count": 2,
   "metadata": {},
   "outputs": [
    {
     "name": "stdout",
     "output_type": "stream",
     "text": [
      "45\n",
      "2022\n",
      "None\n"
     ]
    }
   ],
   "source": [
    "##2. Pile of Cubes:\n",
    "def pile_of_cubes(m):\n",
    "    n = 1\n",
    "    while m > 0:\n",
    "        m -= n**3\n",
    "        n += 1\n",
    "    return n - 1 if m == 0 else None\n",
    "\n",
    "# Examples\n",
    "print(pile_of_cubes(1071225))         \n",
    "print(pile_of_cubes(4183059834009))   \n",
    "print(pile_of_cubes(16))              \n"
   ]
  },
  {
   "cell_type": "code",
   "execution_count": 3,
   "metadata": {},
   "outputs": [
    {
     "name": "stdout",
     "output_type": "stream",
     "text": [
      "2\n",
      "4\n",
      "1\n",
      "0\n",
      "-1\n"
     ]
    }
   ],
   "source": [
    "##3. Find Fulcrum:\n",
    "def find_fulcrum(lst):\n",
    "    for i in range(len(lst)):\n",
    "        if sum(lst[:i]) == sum(lst[i+1:]):\n",
    "            return lst[i]\n",
    "    return -1\n",
    "\n",
    "# Examples\n",
    "print(find_fulcrum([3, 1, 5, 2, 4, 6, -1]))         \n",
    "print(find_fulcrum([1, 2, 4, 9, 10, -10, -9, 3]))   \n",
    "print(find_fulcrum([9, 1, 9]))            \n",
    "print(find_fulcrum([7, -1, 0, -1, 1, 1, 2, 3]))    \n",
    "print(find_fulcrum([8, 8, 8, 8]))        \n"
   ]
  },
  {
   "cell_type": "code",
   "execution_count": 4,
   "metadata": {},
   "outputs": [
    {
     "name": "stdout",
     "output_type": "stream",
     "text": [
      "3\n",
      "4\n",
      "0\n"
     ]
    }
   ],
   "source": [
    "##4. Sock Merchant:\n",
    "from collections import Counter\n",
    "\n",
    "def sock_merchant(socks):\n",
    "    sock_counts = Counter(socks)\n",
    "    pairs = sum(count // 2 for count in sock_counts.values())\n",
    "    return pairs\n",
    "\n",
    "# Examples\n",
    "print(sock_merchant([10, 20, 20, 10, 10, 30, 50, 10, 20])) \n",
    "print(sock_merchant([50, 20, 30, 90, 30, 20, 50, 20, 90])) \n",
    "print(sock_merchant([]))                                  \n"
   ]
  },
  {
   "cell_type": "code",
   "execution_count": 5,
   "metadata": {},
   "outputs": [
    {
     "name": "stdout",
     "output_type": "stream",
     "text": [
      "-23\n",
      "-33\n"
     ]
    }
   ],
   "source": [
    "##5. Negative Sum:\n",
    "import re\n",
    "\n",
    "def negative_sum(s):\n",
    "    numbers = map(int, re.findall(r'-\\d+', s))\n",
    "    return sum(numbers)\n",
    "\n",
    "# Examples\n",
    "print(negative_sum(\"-12 13%14&-11\"))           # -23\n",
    "print(negative_sum(\"22 13%14&-11-22 13 12\"))   # -33\n"
   ]
  },
  {
   "cell_type": "code",
   "execution_count": null,
   "metadata": {},
   "outputs": [],
   "source": []
  }
 ],
 "metadata": {
  "kernelspec": {
   "display_name": "Python 3",
   "language": "python",
   "name": "python3"
  },
  "language_info": {
   "codemirror_mode": {
    "name": "ipython",
    "version": 3
   },
   "file_extension": ".py",
   "mimetype": "text/x-python",
   "name": "python",
   "nbconvert_exporter": "python",
   "pygments_lexer": "ipython3",
   "version": "3.8.5"
  }
 },
 "nbformat": 4,
 "nbformat_minor": 4
}
