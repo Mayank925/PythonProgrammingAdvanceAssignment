{
 "cells": [
  {
   "cell_type": "code",
   "execution_count": 1,
   "metadata": {},
   "outputs": [
    {
     "name": "stdout",
     "output_type": "stream",
     "text": [
      "False\n",
      "False\n",
      "False\n",
      "False\n",
      "False\n"
     ]
    }
   ],
   "source": [
    "##1. Valid Rondo Form:\n",
    "def valid_rondo(s):\n",
    "    if len(s) < 3 or s[0] != 'A' or s[-1] != 'A':\n",
    "        return False\n",
    "\n",
    "    current_section = ord('A')\n",
    "    for char in s[1:-1]:\n",
    "        if char != chr(current_section):\n",
    "            return False\n",
    "        current_section += 1\n",
    "\n",
    "    return True\n",
    "\n",
    "# Examples\n",
    "print(valid_rondo(\"ABACADAEAFAGAHAIAJA\")) \n",
    "print(valid_rondo(\"ABA\")) \n",
    "print(valid_rondo(\"ABBACCA\")) \n",
    "print(valid_rondo(\"ACAC\")) \n",
    "print(valid_rondo(\"A\")) \n"
   ]
  },
  {
   "cell_type": "code",
   "execution_count": 2,
   "metadata": {},
   "outputs": [
    {
     "name": "stdout",
     "output_type": "stream",
     "text": [
      "I have a cat.\n",
      "I have a mat.\n",
      "Things are going swell..\n",
      "\n"
     ]
    }
   ],
   "source": [
    "##2. Sentence Searcher:\n",
    "def sentence_searcher(txt, word):\n",
    "    sentences = txt.split('. ')\n",
    "    for sentence in sentences:\n",
    "        if word.lower() in sentence.lower():\n",
    "            return sentence + '.'\n",
    "    return \"\"\n",
    "\n",
    "# Examples\n",
    "txt = \"I have a cat. I have a mat. Things are going swell.\"\n",
    "print(sentence_searcher(txt, \"have\")) \n",
    "print(sentence_searcher(txt, \"MAT\"))  \n",
    "print(sentence_searcher(txt, \"things\")) \n",
    "print(sentence_searcher(txt, \"flat\")) "
   ]
  },
  {
   "cell_type": "code",
   "execution_count": 3,
   "metadata": {},
   "outputs": [
    {
     "name": "stdout",
     "output_type": "stream",
     "text": [
      "100 1\n",
      "1000 200 30 4\n",
      "50000 4000 200 10\n"
     ]
    }
   ],
   "source": [
    "##3. Sum Round:\n",
    "def sum_round(num):\n",
    "    num_str = str(num)\n",
    "    return ' '.join([str(int(digit) * 10 ** (len(num_str) - index - 1)) for index, digit in enumerate(num_str) if digit != '0'])\n",
    "\n",
    "# Examples\n",
    "print(sum_round(101))  \n",
    "print(sum_round(1234))  \n",
    "print(sum_round(54210)) \n"
   ]
  },
  {
   "cell_type": "code",
   "execution_count": 4,
   "metadata": {},
   "outputs": [
    {
     "name": "stdout",
     "output_type": "stream",
     "text": [
      "[[1]]\n",
      "[[1, 2, 3], [2, 4, 6], [3, 6, 9]]\n"
     ]
    }
   ],
   "source": [
    "##4. Multiplication Table:\n",
    "def multiplication_table(n):\n",
    "    return [[i * j for j in range(1, n+1)] for i in range(1, n+1)]\n",
    "\n",
    "# Examples\n",
    "print(multiplication_table(1))  \n",
    "print(multiplication_table(3))  \n"
   ]
  },
  {
   "cell_type": "code",
   "execution_count": 5,
   "metadata": {},
   "outputs": [
    {
     "name": "stdout",
     "output_type": "stream",
     "text": [
      "True\n",
      "True\n",
      "False\n",
      "False\n"
     ]
    }
   ],
   "source": [
    "##5. Does Rhyme:\n",
    "def does_rhyme(txt1, txt2):\n",
    "    vowels = \"aeiou\"\n",
    "    def get_last_word_vowels(txt):\n",
    "        last_word = txt.split()[-1].lower()\n",
    "        return [char for char in last_word if char in vowels]\n",
    "\n",
    "    return get_last_word_vowels(txt1) == get_last_word_vowels(txt2)\n",
    "\n",
    "# Examples\n",
    "print(does_rhyme(\"Sam I am!\", \"Green eggs and ham.\")) \n",
    "print(does_rhyme(\"Sam I am!\", \"Green eggs and HAM.\")) \n",
    "print(does_rhyme(\"You are off to the races\", \"a splendid day.\"))\n",
    "print(does_rhyme(\"and frequently do?\", \"you gotta move.\"))\n"
   ]
  },
  {
   "cell_type": "code",
   "execution_count": null,
   "metadata": {},
   "outputs": [],
   "source": []
  }
 ],
 "metadata": {
  "kernelspec": {
   "display_name": "Python 3",
   "language": "python",
   "name": "python3"
  },
  "language_info": {
   "codemirror_mode": {
    "name": "ipython",
    "version": 3
   },
   "file_extension": ".py",
   "mimetype": "text/x-python",
   "name": "python",
   "nbconvert_exporter": "python",
   "pygments_lexer": "ipython3",
   "version": "3.8.5"
  }
 },
 "nbformat": 4,
 "nbformat_minor": 4
}
