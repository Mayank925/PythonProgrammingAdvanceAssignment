{
 "cells": [
  {
   "cell_type": "code",
   "execution_count": 1,
   "metadata": {},
   "outputs": [
    {
     "name": "stdout",
     "output_type": "stream",
     "text": [
      "[['####'], ['####'], ['####'], ['####'], ['####']]\n",
      "[['**********'], ['**********'], ['**********']]\n",
      "invalid\n"
     ]
    }
   ],
   "source": [
    "##1. Picture Frame:\n",
    "def get_frame(width, height, char):\n",
    "    if width <= 2:\n",
    "        return \"invalid\"\n",
    "    \n",
    "    frame = [[char * width] for _ in range(height)]\n",
    "    return frame\n",
    "\n",
    "# Examples\n",
    "print(get_frame(4, 5, \"#\"))\n",
    "print(get_frame(10, 3, \"*\"))\n",
    "print(get_frame(2, 5, \"0\"))\n"
   ]
  },
  {
   "cell_type": "code",
   "execution_count": 2,
   "metadata": {},
   "outputs": [
    {
     "name": "stdout",
     "output_type": "stream",
     "text": [
      "False\n",
      "True\n",
      "False\n"
     ]
    }
   ],
   "source": [
    "##2. Boolean Operations:\n",
    "def boolean_and(lst):\n",
    "    return all(lst)\n",
    "\n",
    "def boolean_or(lst):\n",
    "    return any(lst)\n",
    "\n",
    "def boolean_xor(lst):\n",
    "    return sum(lst) % 2 == 1\n",
    "\n",
    "# Examples\n",
    "print(boolean_and([True, True, False, True])) \n",
    "print(boolean_or([True, True, False, False])) \n",
    "print(boolean_xor([True, True, False, False])) \n"
   ]
  },
  {
   "cell_type": "code",
   "execution_count": 3,
   "metadata": {},
   "outputs": [
    {
     "name": "stdout",
     "output_type": "stream",
     "text": [
      "['#####', '#   #', '#   #', '#   #', '#####']\n",
      "['###', '# #', '###']\n",
      "['##', '##']\n",
      "['#']\n"
     ]
    }
   ],
   "source": [
    "##3. Make Box:\n",
    "def make_box(n):\n",
    "    if n == 1:\n",
    "        return [\"#\"]\n",
    "    else:\n",
    "        return [\"#\" * n] + [\"#\" + \" \" * (n - 2) + \"#\"] * (n - 2) + [\"#\" * n]\n",
    "\n",
    "# Examples\n",
    "print(make_box(5))\n",
    "print(make_box(3))\n",
    "print(make_box(2))\n",
    "print(make_box(1))\n"
   ]
  },
  {
   "cell_type": "code",
   "execution_count": 4,
   "metadata": {},
   "outputs": [
    {
     "name": "stdout",
     "output_type": "stream",
     "text": [
      "True\n",
      "True\n",
      "False\n",
      "False\n"
     ]
    }
   ],
   "source": [
    "##4. No Duplicate Letters:\n",
    "def no_duplicate_letters(phrase):\n",
    "    words = phrase.split()\n",
    "    for word in words:\n",
    "        if len(set(word.lower())) != len(word):\n",
    "            return False\n",
    "    return True\n",
    "\n",
    "# Examples\n",
    "print(no_duplicate_letters(\"Fortune favours the bold.\"))  \n",
    "print(no_duplicate_letters(\"You can lead a horse to water, but you can't make him drink.\"))  \n",
    "print(no_duplicate_letters(\"Look before you leap.\")) \n",
    "print(no_duplicate_letters(\"An apple a day keeps the doctor away.\"))  \n"
   ]
  },
  {
   "cell_type": "code",
   "execution_count": 5,
   "metadata": {},
   "outputs": [
    {
     "name": "stdout",
     "output_type": "stream",
     "text": [
      "['California', 'Florida']\n"
     ]
    }
   ],
   "source": [
    "##5. RegEx for Yes Votes:\n",
    "import re\n",
    "\n",
    "txt = \"Texas = no, California = yes, Florida = yes, Michigan = no\"\n",
    "pattern = r\"\\b(\\w+)\\s*=\\s*yes\\b\"\n",
    "\n",
    "print(re.findall(pattern, txt))\n"
   ]
  },
  {
   "cell_type": "code",
   "execution_count": null,
   "metadata": {},
   "outputs": [],
   "source": []
  }
 ],
 "metadata": {
  "kernelspec": {
   "display_name": "Python 3",
   "language": "python",
   "name": "python3"
  },
  "language_info": {
   "codemirror_mode": {
    "name": "ipython",
    "version": 3
   },
   "file_extension": ".py",
   "mimetype": "text/x-python",
   "name": "python",
   "nbconvert_exporter": "python",
   "pygments_lexer": "ipython3",
   "version": "3.8.5"
  }
 },
 "nbformat": 4,
 "nbformat_minor": 4
}
