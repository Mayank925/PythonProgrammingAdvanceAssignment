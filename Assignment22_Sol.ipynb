{
 "cells": [
  {
   "cell_type": "code",
   "execution_count": 1,
   "metadata": {},
   "outputs": [
    {
     "name": "stdout",
     "output_type": "stream",
     "text": [
      "['Banana']\n",
      "$0.50\n",
      "$1.25\n",
      "Banana Smoothie\n",
      "['Raspberries', 'Strawberries', 'Blueberries']\n",
      "$3.50\n",
      "$8.75\n",
      "Blueberries Raspberries Strawberries Fusion\n"
     ]
    }
   ],
   "source": [
    "##1. Smoothie Class:\n",
    "class Smoothie:\n",
    "    def __init__(self, ingredients):\n",
    "        self.ingredients = ingredients\n",
    "    \n",
    "    def get_cost(self):\n",
    "        prices = {\"Strawberries\": 1.50, \"Banana\": 0.50, \"Mango\": 2.50, \"Blueberries\": 1.00,\n",
    "                  \"Raspberries\": 1.00, \"Apple\": 1.75, \"Pineapple\": 3.50}\n",
    "        return \"${:.2f}\".format(sum(prices[ingredient] for ingredient in self.ingredients))\n",
    "    \n",
    "    def get_price(self):\n",
    "        cost = float(self.get_cost()[1:])  # Remove \"$\" and convert to float\n",
    "        return \"${:.2f}\".format(cost + cost * 1.5)\n",
    "    \n",
    "    def get_name(self):\n",
    "        sorted_ingredients = sorted(self.ingredients)\n",
    "        name = \" \".join(sorted_ingredients)\n",
    "        return name + \" Fusion\" if len(sorted_ingredients) > 1 else name + \" Smoothie\"\n",
    "\n",
    "# Examples\n",
    "s1 = Smoothie([\"Banana\"])\n",
    "print(s1.ingredients) \n",
    "print(s1.get_cost()) \n",
    "print(s1.get_price()) \n",
    "print(s1.get_name())  \n",
    "\n",
    "s2 = Smoothie([\"Raspberries\", \"Strawberries\", \"Blueberries\"])\n",
    "print(s2.ingredients) \n",
    "print(s2.get_cost())  \n",
    "print(s2.get_price()) \n",
    "print(s2.get_name())  "
   ]
  },
  {
   "cell_type": "code",
   "execution_count": 2,
   "metadata": {},
   "outputs": [
    {
     "name": "stdout",
     "output_type": "stream",
     "text": [
      "No tests taken\n",
      "{'Maths': 'Passed! (80%)'}\n",
      "{'Computing': 'Failed! (43%)'}\n"
     ]
    }
   ],
   "source": [
    "##2. Testpaper and Student Classes:\n",
    "class Testpaper:\n",
    "    def __init__(self, subject, markscheme, pass_mark):\n",
    "        self.subject = subject\n",
    "        self.markscheme = markscheme\n",
    "        self.pass_mark = pass_mark\n",
    "\n",
    "class Student:\n",
    "    def __init__(self):\n",
    "        self.tests_taken = \"No tests taken\"\n",
    "    \n",
    "    def take_test(self, testpaper, answers):\n",
    "        score = sum(1 for a, b in zip(testpaper.markscheme, answers) if a == b)\n",
    "        percentage = (score / len(testpaper.markscheme)) * 100\n",
    "        result = \"Passed\" if percentage >= float(testpaper.pass_mark[:-1]) else \"Failed\"\n",
    "        self.tests_taken = {testpaper.subject: f\"{result}! ({percentage:.0f}%)\"}\n",
    "\n",
    "# Examples\n",
    "paper1 = Testpaper(\"Maths\", [\"1A\", \"2C\", \"3D\", \"4A\", \"5A\"], \"60%\")\n",
    "paper2 = Testpaper(\"Chemistry\", [\"1C\", \"2C\", \"3D\", \"4A\"], \"75%\")\n",
    "paper3 = Testpaper(\"Computing\", [\"1D\", \"2C\", \"3C\", \"4B\", \"5D\", \"6C\", \"7A\"], \"75%\")\n",
    "\n",
    "student1 = Student()\n",
    "student2 = Student()\n",
    "\n",
    "print(student1.tests_taken) \n",
    "student1.take_test(paper1, [\"1A\", \"2D\", \"3D\", \"4A\", \"5A\"])\n",
    "print(student1.tests_taken)  \n",
    "\n",
    "student2.take_test(paper2, [\"1C\", \"2D\", \"3A\", \"4C\"])\n",
    "student2.take_test(paper3, [\"1A\", \"2C\", \"3A\", \"4C\", \"5D\", \"6C\", \"7B\"])\n",
    "print(student2.tests_taken)  "
   ]
  },
  {
   "cell_type": "code",
   "execution_count": 3,
   "metadata": {},
   "outputs": [
    {
     "name": "stdout",
     "output_type": "stream",
     "text": [
      "13:04\n",
      "14:20\n",
      "14:22\n"
     ]
    }
   ],
   "source": [
    "##3. Manage Delays Function:\n",
    "class Train:\n",
    "    def __init__(self, destinations, expected_time):\n",
    "        self.destinations = destinations\n",
    "        self.expected_time = expected_time\n",
    "\n",
    "def manage_delays(train, destination, delay):\n",
    "    if destination in train.destinations:\n",
    "        hours, minutes = map(int, train.expected_time.split(':'))\n",
    "        total_minutes = hours * 60 + minutes + delay\n",
    "        train.expected_time = f\"{total_minutes // 60:02d}:{total_minutes % 60:02d}\"\n",
    "\n",
    "# Examples\n",
    "trains = [\n",
    "    Train([\"Townsville\", \"Suburbia\", \"Urbantska\"], \"13:04\"),\n",
    "    Train([\"Farmsdale\", \"Suburbia\", \"Lakeside Valley\"], \"13:20\"),\n",
    "    Train([\"Suburbia\", \"Townsville\", \"Lakeside Valley\"], \"13:22\")\n",
    "]\n",
    "\n",
    "for t in trains:\n",
    "    manage_delays(t, \"Lakeside Valley\", 60)\n",
    "\n",
    "print(trains[0].expected_time)  # \"13:04\"\n",
    "print(trains[1].expected_time)  # \"14:20\"\n",
    "print(trains[2].expected_time)  # \"14:22\"\n"
   ]
  },
  {
   "cell_type": "code",
   "execution_count": 4,
   "metadata": {},
   "outputs": [
    {
     "name": "stdout",
     "output_type": "stream",
     "text": [
      "False\n",
      "1\n"
     ]
    }
   ],
   "source": [
    "##4. Mine Run Function:\n",
    "class Minecart:\n",
    "    def __init__(self):\n",
    "        self.velocity = 0\n",
    "\n",
    "def mine_run(tracks):\n",
    "    minecart = Minecart()\n",
    "    for i, track in enumerate(tracks):\n",
    "        if track == \"-->\":\n",
    "            minecart.velocity = min(minecart.velocity + 2.67, 8)\n",
    "        elif track == \"<-->\":\n",
    "            pass  # No change in velocity\n",
    "        elif track == \"<--\":\n",
    "            minecart.velocity = max(minecart.velocity - 2.67, 0)\n",
    "        elif track == \"---\":\n",
    "            minecart.velocity = max(minecart.velocity - 1, 0)\n",
    "\n",
    "        if i == len(tracks) - 1:\n",
    "            return True if minecart.velocity > 0 else False\n",
    "        elif minecart.velocity == 0:\n",
    "            return i\n",
    "\n",
    "# Examples\n",
    "print(mine_run([\"-->\", \"-->\", \"-->\", \"<--\", \"<--\", \"<--\"])) \n",
    "print(mine_run([\"-->\", \"<--\", \"-->\", \"-->\", \"<-->\", \"---\"]))\n"
   ]
  },
  {
   "cell_type": "code",
   "execution_count": 5,
   "metadata": {},
   "outputs": [
    {
     "name": "stdout",
     "output_type": "stream",
     "text": [
      "True\n",
      "False\n",
      "False\n"
     ]
    }
   ],
   "source": [
    "##5. Rectangle Class:\n",
    "class Rectangle:\n",
    "    def __init__(self, x, y, width, height):\n",
    "        self.x = x\n",
    "        self.y = y\n",
    "        self.width = width\n",
    "        self.height = height\n",
    "\n",
    "def intersecting(rect1, rect2):\n",
    "    return not (rect1.x + rect1.width < rect2.x or\n",
    "                rect2.x + rect2.width < rect1.x or\n",
    "                rect1.y + rect1.height < rect2.y or\n",
    "                rect2.y + rect2.height < rect1.y)\n",
    "\n",
    "# Examples\n",
    "a = Rectangle(10, 20, 100, 20)\n",
    "b = Rectangle(10, 40, 15, 20)\n",
    "c = Rectangle(50, 50, 20, 30)\n",
    "\n",
    "print(intersecting(a, b))  # True\n",
    "print(intersecting(a, c))  # False\n",
    "print(intersecting(b, c))  # True\n"
   ]
  },
  {
   "cell_type": "code",
   "execution_count": null,
   "metadata": {},
   "outputs": [],
   "source": []
  }
 ],
 "metadata": {
  "kernelspec": {
   "display_name": "Python 3",
   "language": "python",
   "name": "python3"
  },
  "language_info": {
   "codemirror_mode": {
    "name": "ipython",
    "version": 3
   },
   "file_extension": ".py",
   "mimetype": "text/x-python",
   "name": "python",
   "nbconvert_exporter": "python",
   "pygments_lexer": "ipython3",
   "version": "3.8.5"
  }
 },
 "nbformat": 4,
 "nbformat_minor": 4
}
