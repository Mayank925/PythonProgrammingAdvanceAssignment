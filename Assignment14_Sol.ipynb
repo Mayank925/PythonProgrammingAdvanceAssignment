{
 "cells": [
  {
   "cell_type": "code",
   "execution_count": 1,
   "metadata": {},
   "outputs": [
    {
     "name": "stdout",
     "output_type": "stream",
     "text": [
      "[3.0, 3.0, 3.0]\n",
      "[12.0, 7.5, 14.5]\n",
      "[27.0, 75.0]\n"
     ]
    }
   ],
   "source": [
    "##1. Show the Love:\n",
    "def show_the_love(lst):\n",
    "    min_val = min(lst)\n",
    "    total_removed = 0\n",
    "    for i in range(len(lst)):\n",
    "        if lst[i] != min_val:\n",
    "            removed = 0.25 * lst[i]\n",
    "            lst[i] -= removed\n",
    "            total_removed += removed\n",
    "    lst[lst.index(min_val)] += total_removed\n",
    "    return lst\n",
    "\n",
    "# Examples\n",
    "print(show_the_love([4, 1, 4]))\n",
    "print(show_the_love([16, 10, 8]))\n",
    "print(show_the_love([2, 100]))   \n"
   ]
  },
  {
   "cell_type": "code",
   "execution_count": 2,
   "metadata": {},
   "outputs": [
    {
     "name": "stdout",
     "output_type": "stream",
     "text": [
      "['aps', 'hr', 'o']\n",
      "['bdor', 'a', 'e']\n",
      "['enp', 'ahis', 'lov']\n",
      "['flu', 'ekr', 'y']\n",
      "['ahm', 'ct', '']\n"
     ]
    }
   ],
   "source": [
    "##2. Letters:\n",
    "def letters(word1, word2):\n",
    "    shared = ''.join(sorted(set(word1) & set(word2)))\n",
    "    unique1 = ''.join(sorted(set(word1) - set(word2)))\n",
    "    unique2 = ''.join(sorted(set(word2) - set(word1)))\n",
    "    return [shared, unique1, unique2]\n",
    "\n",
    "# Examples\n",
    "print(letters(\"sharp\", \"soap\")) \n",
    "print(letters(\"board\", \"bored\"))  \n",
    "print(letters(\"happiness\", \"envelope\"))\n",
    "print(letters(\"kerfuffle\", \"fluffy\"))   \n",
    "print(letters(\"match\", \"ham\"))\n"
   ]
  },
  {
   "cell_type": "code",
   "execution_count": 3,
   "metadata": {},
   "outputs": [
    {
     "name": "stdout",
     "output_type": "stream",
     "text": [
      "[[1, 7], [2, 6], [3, 5]]\n",
      "[[1, 6], [2, 5], [3, 4]]\n",
      "[[5, 2], [9, 1]]\n",
      "[]\n"
     ]
    }
   ],
   "source": [
    "##3. Pairs:\n",
    "def pairs(arr):\n",
    "    return [[arr[i], arr[~i]] for i in range(len(arr)//2)]\n",
    "\n",
    "# Examples\n",
    "print(pairs([1, 2, 3, 4, 5, 6, 7]))\n",
    "print(pairs([1, 2, 3, 4, 5, 6]))  \n",
    "print(pairs([5, 9, 8, 1, 2])) \n",
    "print(pairs([])) \n"
   ]
  },
  {
   "cell_type": "code",
   "execution_count": 4,
   "metadata": {},
   "outputs": [
    {
     "name": "stdout",
     "output_type": "stream",
     "text": [
      "9\n",
      "-1\n",
      "-1\n",
      "1874682736267235927391936562808774986\n"
     ]
    }
   ],
   "source": [
    "##4. Add String Numbers:\n",
    "def add_str_nums(num1, num2):\n",
    "    try:\n",
    "        return str(int(num1) + int(num2))\n",
    "    except ValueError:\n",
    "        return \"-1\"\n",
    "\n",
    "# Examples\n",
    "print(add_str_nums(\"4\", \"5\"))  \n",
    "print(add_str_nums(\"abcdefg\", \"3\"))  \n",
    "print(add_str_nums(\"1\", \"\")) \n",
    "print(add_str_nums(\"1874682736267235927359283579235789257\", \"32652983572985729\"))\n"
   ]
  },
  {
   "cell_type": "code",
   "execution_count": 5,
   "metadata": {},
   "outputs": [
    {
     "name": "stdout",
     "output_type": "stream",
     "text": [
      "214365\n",
      "This is a mixed up string.\n",
      "abcde\n"
     ]
    }
   ],
   "source": [
    "##5. Unmix:\n",
    "def unmix(s):\n",
    "    return ''.join([s[i+1] + s[i] for i in range(0, len(s)-1, 2)]) + s[-1] if len(s) % 2 == 1 else ''.join([s[i+1] + s[i] for i in range(0, len(s), 2)])\n",
    "\n",
    "# Examples\n",
    "print(unmix(\"123456\"))  \n",
    "print(unmix(\"hTsii  s aimex dpus rtni.g\"))  \n",
    "print(unmix(\"badce\"))  \n"
   ]
  },
  {
   "cell_type": "code",
   "execution_count": null,
   "metadata": {},
   "outputs": [],
   "source": []
  }
 ],
 "metadata": {
  "kernelspec": {
   "display_name": "Python 3",
   "language": "python",
   "name": "python3"
  },
  "language_info": {
   "codemirror_mode": {
    "name": "ipython",
    "version": 3
   },
   "file_extension": ".py",
   "mimetype": "text/x-python",
   "name": "python",
   "nbconvert_exporter": "python",
   "pygments_lexer": "ipython3",
   "version": "3.8.5"
  }
 },
 "nbformat": 4,
 "nbformat_minor": 4
}
