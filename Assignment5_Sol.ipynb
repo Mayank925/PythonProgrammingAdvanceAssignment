{
 "cells": [
  {
   "cell_type": "code",
   "execution_count": 1,
   "metadata": {},
   "outputs": [
    {
     "name": "stdout",
     "output_type": "stream",
     "text": [
      "8\n",
      "1\n",
      "8\n"
     ]
    }
   ],
   "source": [
    "##1. Determine Even or Odd without if statements:\n",
    "def f(n):\n",
    "    return 2 ** (n % 2 * 3)\n",
    "\n",
    "# Examples\n",
    "print(f(1)) \n",
    "print(f(2)) \n",
    "print(f(3)) \n"
   ]
  },
  {
   "cell_type": "code",
   "execution_count": 2,
   "metadata": {},
   "outputs": [
    {
     "name": "stdout",
     "output_type": "stream",
     "text": [
      "A\n",
      "A\n",
      "None\n"
     ]
    }
   ],
   "source": [
    "##2.Find Majority Vote:\n",
    "def majority_vote(lst):\n",
    "    unique_votes = set(lst)\n",
    "    for vote in unique_votes:\n",
    "        if lst.count(vote) > len(lst) / 2:\n",
    "            return vote\n",
    "    return None\n",
    "\n",
    "# Examples\n",
    "print(majority_vote([\"A\", \"A\", \"B\"]))              \n",
    "print(majority_vote([\"A\", \"A\", \"A\", \"B\", \"C\", \"A\"]))  \n",
    "print(majority_vote([\"A\", \"B\", \"B\", \"A\", \"C\", \"C\"]))  \n"
   ]
  },
  {
   "cell_type": "code",
   "execution_count": 3,
   "metadata": {},
   "outputs": [
    {
     "name": "stdout",
     "output_type": "stream",
     "text": [
      "----- is - Wednesday!\n",
      "The *** jumped **** the moon.\n",
      "Why did the ******* cross the road?\n"
     ]
    }
   ],
   "source": [
    "##3.Censor Words in a String:\n",
    "def censor_string(txt, lst, char):\n",
    "    words = txt.split()\n",
    "    censored_words = [char * len(word) if word in lst else word for word in words]\n",
    "    return ' '.join(censored_words)\n",
    "\n",
    "# Examples\n",
    "print(censor_string(\"Today is a Wednesday!\", [\"Today\", \"a\"], \"-\"))          \n",
    "print(censor_string(\"The cow jumped over the moon.\", [\"cow\", \"over\"], \"*\"))  \n",
    "print(censor_string(\"Why did the chicken cross the road?\", [\"Did\", \"chicken\", \"road\"], \"*\")) \n"
   ]
  },
  {
   "cell_type": "code",
   "execution_count": 4,
   "metadata": {},
   "outputs": [
    {
     "name": "stdout",
     "output_type": "stream",
     "text": [
      "True\n",
      "False\n"
     ]
    }
   ],
   "source": [
    "##4.Check Polydivisible Number:\n",
    "def is_polydivisible(n):\n",
    "    digits = [int(d) for d in str(n)]\n",
    "    for i in range(1, len(digits) + 1):\n",
    "        if int(''.join(map(str, digits[:i]))) % i != 0:\n",
    "            return False\n",
    "    return True\n",
    "\n",
    "# Examples\n",
    "print(is_polydivisible(1232))   \n",
    "print(is_polydivisible(123220)) \n"
   ]
  },
  {
   "cell_type": "code",
   "execution_count": 5,
   "metadata": {},
   "outputs": [
    {
     "name": "stdout",
     "output_type": "stream",
     "text": [
      "17\n",
      "87\n",
      "None\n"
     ]
    }
   ],
   "source": [
    "##5.Sum of Prime Numbers:\n",
    "def is_prime(num):\n",
    "    if num < 2:\n",
    "        return False\n",
    "    for i in range(2, int(num**0.5) + 1):\n",
    "        if num % i == 0:\n",
    "            return False\n",
    "    return True\n",
    "\n",
    "def sum_primes(lst):\n",
    "    primes = [num for num in lst if is_prime(num)]\n",
    "    return sum(primes) if primes else None\n",
    "\n",
    "# Examples\n",
    "print(sum_primes([1, 2, 3, 4, 5, 6, 7, 8, 9, 10]))  \n",
    "print(sum_primes([2, 3, 4, 11, 20, 50, 71]))        \n",
    "print(sum_primes([]))\n"
   ]
  },
  {
   "cell_type": "code",
   "execution_count": null,
   "metadata": {},
   "outputs": [],
   "source": []
  }
 ],
 "metadata": {
  "kernelspec": {
   "display_name": "Python 3",
   "language": "python",
   "name": "python3"
  },
  "language_info": {
   "codemirror_mode": {
    "name": "ipython",
    "version": 3
   },
   "file_extension": ".py",
   "mimetype": "text/x-python",
   "name": "python",
   "nbconvert_exporter": "python",
   "pygments_lexer": "ipython3",
   "version": "3.8.5"
  }
 },
 "nbformat": 4,
 "nbformat_minor": 4
}
