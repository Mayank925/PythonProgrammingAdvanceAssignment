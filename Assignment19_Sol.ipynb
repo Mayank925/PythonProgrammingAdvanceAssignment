{
 "cells": [
  {
   "cell_type": "code",
   "execution_count": 1,
   "metadata": {},
   "outputs": [
    {
     "name": "stdout",
     "output_type": "stream",
     "text": [
      "[[7, 6], [6, 7]]\n",
      "[['A', 'B', 'A'], ['B', 'A', 'B'], ['A', 'B', 'A']]\n",
      "[['c', 'd', 'c', 'd'], ['d', 'c', 'd', 'c'], ['c', 'd', 'c', 'd'], ['d', 'c', 'd', 'c']]\n",
      "invalid\n"
     ]
    }
   ],
   "source": [
    "##1. Checker Board Generator:\n",
    "def checker_board(n, element1, element2):\n",
    "    if element1 == element2:\n",
    "        return \"invalid\"\n",
    "    board = [[element1 if (i + j) % 2 == 0 else element2 for j in range(n)] for i in range(n)]\n",
    "    return board\n",
    "\n",
    "# Examples\n",
    "print(checker_board(2, 7, 6))\n",
    "print(checker_board(3, \"A\", \"B\"))\n",
    "print(checker_board(4, \"c\", \"d\"))\n",
    "print(checker_board(4, \"c\", \"c\"))\n"
   ]
  },
  {
   "cell_type": "code",
   "execution_count": 2,
   "metadata": {},
   "outputs": [
    {
     "name": "stdout",
     "output_type": "stream",
     "text": [
      "True\n",
      "True\n",
      "False\n",
      "False\n"
     ]
    }
   ],
   "source": [
    "##2. Almost Palindrome:\n",
    "def almost_palindrome(s):\n",
    "    changes = sum([1 for i in range(len(s)//2) if s[i] != s[-i-1]])\n",
    "    return changes == 1 or (changes == 0 and len(s) % 2 == 1)\n",
    "\n",
    "# Examples\n",
    "print(almost_palindrome(\"abcdcbg\"))  # True\n",
    "print(almost_palindrome(\"abccia\"))  # True\n",
    "print(almost_palindrome(\"abcdaaa\"))  # False\n",
    "print(almost_palindrome(\"1234312\"))  # False\n"
   ]
  },
  {
   "cell_type": "code",
   "execution_count": 3,
   "metadata": {},
   "outputs": [
    {
     "name": "stdout",
     "output_type": "stream",
     "text": [
      "4\n",
      "8\n",
      "10\n"
     ]
    }
   ],
   "source": [
    "##3. Prime Numbers:\n",
    "def is_prime(num):\n",
    "    if num < 2:\n",
    "        return False\n",
    "    for i in range(2, int(num**0.5) + 1):\n",
    "        if num % i == 0:\n",
    "            return False\n",
    "    return True\n",
    "\n",
    "def prime_numbers(n):\n",
    "    primes = [num for num in range(2, n+1) if is_prime(num)]\n",
    "    return len(primes)\n",
    "\n",
    "# Examples\n",
    "print(prime_numbers(10)) \n",
    "print(prime_numbers(20)) \n",
    "print(prime_numbers(30)) "
   ]
  },
  {
   "cell_type": "code",
   "execution_count": 4,
   "metadata": {},
   "outputs": [
    {
     "name": "stdout",
     "output_type": "stream",
     "text": [
      "['Monday', 'Friday']\n",
      "['Monday', 'Monday', 'Monday']\n",
      "['Tuesday', 'Wednesday', 'Saturday']\n"
     ]
    }
   ],
   "source": [
    "##4. Days After N Days:\n",
    "def after_n_days(days, n):\n",
    "    days_of_week = [\"Monday\", \"Tuesday\", \"Wednesday\", \"Thursday\", \"Friday\", \"Saturday\", \"Sunday\"]\n",
    "    result = [(days_of_week[(days_of_week.index(day) + n) % 7]) for day in days]\n",
    "    return result\n",
    "\n",
    "# Examples\n",
    "print(after_n_days([\"Thursday\", \"Monday\"], 4))  \n",
    "print(after_n_days([\"Sunday\", \"Sunday\", \"Sunday\"], 1)) \n",
    "print(after_n_days([\"Monday\", \"Tuesday\", \"Friday\"], 1)) \n"
   ]
  },
  {
   "cell_type": "code",
   "execution_count": 5,
   "metadata": {},
   "outputs": [
    {
     "name": "stdout",
     "output_type": "stream",
     "text": [
      "True\n",
      "True\n",
      "False\n"
     ]
    }
   ],
   "source": [
    "##5. Correct Aliases:\n",
    "def is_correct_aliases(users, aliases):\n",
    "    return all(user[0] == alias.split()[0][0] and user[0] == alias.split()[1][0] for user, alias in zip(users, aliases))\n",
    "\n",
    "# Examples\n",
    "print(is_correct_aliases([\"Adrian M.\", \"Harriet S.\", \"Mandy T.\"], [\"Amazing Artichoke\", \"Hopeful Hedgehog\", \"Marvelous Mouse\"]))  \n",
    "print(is_correct_aliases([\"Rachel F.\", \"Pam G.\", \"Fred Z.\", \"Nancy K.\"], [\"Reassuring Rat\", \"Peaceful Panda\", \"Fantastic Frog\", \"Notable Nickel\"])) \n",
    "print(is_correct_aliases([\"Beth T.\"], [\"Brandishing Mimosa\"])) \n"
   ]
  },
  {
   "cell_type": "code",
   "execution_count": null,
   "metadata": {},
   "outputs": [],
   "source": []
  }
 ],
 "metadata": {
  "kernelspec": {
   "display_name": "Python 3",
   "language": "python",
   "name": "python3"
  },
  "language_info": {
   "codemirror_mode": {
    "name": "ipython",
    "version": 3
   },
   "file_extension": ".py",
   "mimetype": "text/x-python",
   "name": "python",
   "nbconvert_exporter": "python",
   "pygments_lexer": "ipython3",
   "version": "3.8.5"
  }
 },
 "nbformat": 4,
 "nbformat_minor": 4
}
