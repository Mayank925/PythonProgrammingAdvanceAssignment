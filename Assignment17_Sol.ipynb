{
 "cells": [
  {
   "cell_type": "code",
   "execution_count": 1,
   "metadata": {},
   "outputs": [
    {
     "name": "stdout",
     "output_type": "stream",
     "text": [
      "[[1, 2, 3], [1, 2, 3], [1, 2, 3]]\n",
      "[[5, 6, 9], [5, 7, 1]]\n"
     ]
    }
   ],
   "source": [
    "##1. Transpose Matrix:\n",
    "def transpose_matrix(matrix):\n",
    "    return [[matrix[j][i] for j in range(len(matrix))] for i in range(len(matrix[0]))]\n",
    "\n",
    "# Examples\n",
    "print(transpose_matrix([[1, 1, 1], [2, 2, 2], [3, 3, 3]]))\n",
    "print(transpose_matrix([[5, 5], [6, 7], [9, 1]]))"
   ]
  },
  {
   "cell_type": "code",
   "execution_count": 2,
   "metadata": {},
   "outputs": [
    {
     "name": "stdout",
     "output_type": "stream",
     "text": [
      "True\n",
      "True\n",
      "True\n",
      "False\n",
      "False\n",
      "False\n",
      "False\n"
     ]
    }
   ],
   "source": [
    "##2. Valid Hex Code:\n",
    "import re\n",
    "\n",
    "def is_valid_hex_code(code):\n",
    "    return bool(re.match(r'^#[0-9a-fA-F]{6}$', code))\n",
    "\n",
    "# Examples\n",
    "print(is_valid_hex_code(\"#CD5C5C\")) \n",
    "print(is_valid_hex_code(\"#EAECEE\")) \n",
    "print(is_valid_hex_code(\"#eaecee\")) \n",
    "print(is_valid_hex_code(\"#CD5C58C\"))\n",
    "print(is_valid_hex_code(\"#CD5C5Z\")) \n",
    "print(is_valid_hex_code(\"#CD5C&C\")) \n",
    "print(is_valid_hex_code(\"CD5C5C\"))  \n"
   ]
  },
  {
   "cell_type": "code",
   "execution_count": 3,
   "metadata": {},
   "outputs": [
    {
     "name": "stdout",
     "output_type": "stream",
     "text": [
      "75%\n",
      "0%\n",
      "66%\n"
     ]
    }
   ],
   "source": [
    "##3. Mark Maths:\n",
    "def mark_maths(equations):\n",
    "    correct_count = sum(eval(eq.replace('=', '==')) for eq in equations)\n",
    "    percentage = int((correct_count / len(equations)) * 100)\n",
    "    return f\"{percentage}%\"\n",
    "\n",
    "# Examples\n",
    "print(mark_maths([\"2+2=4\", \"3+2=5\", \"10-3=3\", \"5+5=10\"])) \n",
    "print(mark_maths([\"1-2=-2\"])) \n",
    "print(mark_maths([\"2+3=5\", \"4+4=9\", \"3-1=2\"])) \n"
   ]
  },
  {
   "cell_type": "code",
   "execution_count": 4,
   "metadata": {},
   "outputs": [
    {
     "name": "stdout",
     "output_type": "stream",
     "text": [
      "False\n",
      "True\n",
      "True\n",
      "False\n"
     ]
    }
   ],
   "source": [
    "##4. Magic Square Game:\n",
    "def magic_square_game(alice, bob):\n",
    "    alice_row, alice_choice = alice\n",
    "    bob_col, bob_choice = bob\n",
    "    return (alice_row + bob_col) % 2 == 1 and alice_choice[bob_col - 1] == bob_choice[alice_row - 1]\n",
    "\n",
    "# Examples\n",
    "print(magic_square_game([2, \"100\"], [1, \"101\"])) \n",
    "print(magic_square_game([2, \"001\"], [1, \"101\"])) \n",
    "print(magic_square_game([3, \"111\"], [2, \"011\"])) \n",
    "print(magic_square_game([1, \"010\"], [3, \"101\"]))\n"
   ]
  },
  {
   "cell_type": "code",
   "execution_count": 5,
   "metadata": {},
   "outputs": [
    {
     "name": "stdout",
     "output_type": "stream",
     "text": [
      "2h 30min 0s\n",
      "1h 52min 0s\n",
      "0h 38min 34s\n"
     ]
    }
   ],
   "source": [
    "##5. Let's Meet:\n",
    "def lets_meet(distance, va, vb):\n",
    "    time_seconds = (distance / (va + vb)) * 3600\n",
    "    hours = int(time_seconds // 3600)\n",
    "    minutes = int((time_seconds % 3600) // 60)\n",
    "    seconds = int(time_seconds % 60)\n",
    "    return f\"{hours}h {minutes}min {seconds}s\"\n",
    "\n",
    "# Examples\n",
    "print(lets_meet(100, 10, 30))  # \"2h 30min 0s\"\n",
    "print(lets_meet(280, 70, 80))  # \"1h 52min 0s\"\n",
    "print(lets_meet(90, 75, 65))  # \"0h 38min 34s\"\n"
   ]
  },
  {
   "cell_type": "code",
   "execution_count": null,
   "metadata": {},
   "outputs": [],
   "source": []
  }
 ],
 "metadata": {
  "kernelspec": {
   "display_name": "Python 3",
   "language": "python",
   "name": "python3"
  },
  "language_info": {
   "codemirror_mode": {
    "name": "ipython",
    "version": 3
   },
   "file_extension": ".py",
   "mimetype": "text/x-python",
   "name": "python",
   "nbconvert_exporter": "python",
   "pygments_lexer": "ipython3",
   "version": "3.8.5"
  }
 },
 "nbformat": 4,
 "nbformat_minor": 4
}
