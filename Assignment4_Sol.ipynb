{
 "cells": [
  {
   "cell_type": "code",
   "execution_count": 1,
   "metadata": {},
   "outputs": [
    {
     "name": "stdout",
     "output_type": "stream",
     "text": [
      "5\n",
      "55\n",
      "6765\n",
      "12586269025\n"
     ]
    }
   ],
   "source": [
    "##Question 1:\n",
    "def fib_fast(num):\n",
    "    a, b = 0, 1\n",
    "    for _ in range(num):\n",
    "        a, b = b, a + b\n",
    "    return a\n",
    "\n",
    "# Examples\n",
    "print(fib_fast(5))   \n",
    "print(fib_fast(10))  \n",
    "print(fib_fast(20))  \n",
    "print(fib_fast(50))  \n"
   ]
  },
  {
   "cell_type": "code",
   "execution_count": 2,
   "metadata": {},
   "outputs": [
    {
     "name": "stdout",
     "output_type": "stream",
     "text": [
      "68 65 6c 6c 6f 20 77 6f 72 6c 64\n",
      "42 69 67 20 42 6f 69\n",
      "4d 61 72 74 79 20 50 6f 70 70 69 6e 73 6f 6e\n"
     ]
    }
   ],
   "source": [
    "##Question 2:\n",
    "def convert_to_hex(s):\n",
    "    hex_values = [hex(ord(char))[2:] for char in s]\n",
    "    return ' '.join(hex_values)\n",
    "\n",
    "# Examples\n",
    "print(convert_to_hex(\"hello world\"))     \n",
    "print(convert_to_hex(\"Big Boi\"))         \n",
    "print(convert_to_hex(\"Marty Poppinson\")) \n"
   ]
  },
  {
   "cell_type": "code",
   "execution_count": 3,
   "metadata": {},
   "outputs": [
    {
     "name": "stdout",
     "output_type": "stream",
     "text": [
      "Where did my vowels go?\n",
      "abcd\n",
      "UPPERCASE\n"
     ]
    }
   ],
   "source": [
    "##Question 3:\n",
    "def uncensor(txt, vowels):\n",
    "    return txt.replace('*', '{}').format(*vowels)\n",
    "\n",
    "# Examples\n",
    "print(uncensor(\"Wh*r* d*d my v*w*ls g*?\", \"eeioeo\"))  \n",
    "print(uncensor(\"abcd\", \"\"))                           \n",
    "print(uncensor(\"*PP*RC*S*\", \"UEAE\"))     \n"
   ]
  },
  {
   "cell_type": "code",
   "execution_count": 4,
   "metadata": {},
   "outputs": [
    {
     "name": "stdout",
     "output_type": "stream",
     "text": [
      "dns.google\n",
      "dns.google\n"
     ]
    }
   ],
   "source": [
    "##Question 4:\n",
    "import socket\n",
    "\n",
    "def get_domain(ip_address):\n",
    "    try:\n",
    "        domain_name, _, _ = socket.gethostbyaddr(ip_address)\n",
    "        return domain_name\n",
    "    except socket.herror:\n",
    "        return None\n",
    "\n",
    "# Examples\n",
    "print(get_domain(\"8.8.8.8\"))  \n",
    "print(get_domain(\"8.8.4.4\"))  \n"
   ]
  },
  {
   "cell_type": "code",
   "execution_count": 5,
   "metadata": {},
   "outputs": [
    {
     "name": "stdout",
     "output_type": "stream",
     "text": [
      "288\n",
      "34560\n",
      "24883200\n"
     ]
    }
   ],
   "source": [
    "##Question 5:\n",
    "def fact_of_fact(n):\n",
    "    def factorial(num):\n",
    "        return 1 if num == 0 else num * factorial(num - 1)\n",
    "\n",
    "    result = 1\n",
    "    for i in range(1, n + 1):\n",
    "        result *= factorial(i)\n",
    "    return result\n",
    "\n",
    "# Examples\n",
    "print(fact_of_fact(4)) \n",
    "print(fact_of_fact(5)) \n",
    "print(fact_of_fact(6)) \n"
   ]
  },
  {
   "cell_type": "code",
   "execution_count": null,
   "metadata": {},
   "outputs": [],
   "source": []
  }
 ],
 "metadata": {
  "kernelspec": {
   "display_name": "Python 3",
   "language": "python",
   "name": "python3"
  },
  "language_info": {
   "codemirror_mode": {
    "name": "ipython",
    "version": 3
   },
   "file_extension": ".py",
   "mimetype": "text/x-python",
   "name": "python",
   "nbconvert_exporter": "python",
   "pygments_lexer": "ipython3",
   "version": "3.8.5"
  }
 },
 "nbformat": 4,
 "nbformat_minor": 4
}
