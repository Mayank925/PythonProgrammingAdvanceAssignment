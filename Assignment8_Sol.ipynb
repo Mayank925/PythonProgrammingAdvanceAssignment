{
 "cells": [
  {
   "cell_type": "code",
   "execution_count": 1,
   "metadata": {},
   "outputs": [
    {
     "name": "stdout",
     "output_type": "stream",
     "text": [
      "True\n",
      "True\n",
      "False\n",
      "False\n"
     ]
    }
   ],
   "source": [
    "##1. Vowel Links:\n",
    "def vowel_links(txt):\n",
    "    words = txt.split()\n",
    "    vowels = set(\"aeiou\")\n",
    "    \n",
    "    for i in range(len(words) - 1):\n",
    "        word1, word2 = words[i], words[i + 1]\n",
    "        if word1[-1].lower() in vowels and word2[0].lower() in vowels:\n",
    "            return True\n",
    "    \n",
    "    return False\n",
    "\n",
    "# Examples\n",
    "print(vowel_links(\"a very large appliance\"))   \n",
    "print(vowel_links(\"go to edabit\"))             \n",
    "print(vowel_links(\"an open fire\"))             \n",
    "print(vowel_links(\"a sudden applause\"))\n"
   ]
  },
  {
   "cell_type": "code",
   "execution_count": 2,
   "metadata": {},
   "outputs": [
    {
     "name": "stdout",
     "output_type": "stream",
     "text": [
      "True\n",
      "True\n",
      "False\n",
      "False\n"
     ]
    }
   ],
   "source": [
    "##2. First Before Second:\n",
    "def first_before_second(txt, first, second):\n",
    "    first_positions = [i for i, char in enumerate(txt) if char == first]\n",
    "    second_positions = [i for i, char in enumerate(txt) if char == second]\n",
    "    \n",
    "    return all(first_pos < second_pos for first_pos in first_positions for second_pos in second_positions)\n",
    "\n",
    "# Examples\n",
    "print(first_before_second(\"a rabbit jumps joyfully\", \"a\", \"j\"))       \n",
    "print(first_before_second(\"knaves knew about waterfalls\", \"k\", \"w\"))  \n",
    "print(first_before_second(\"happy birthday\", \"a\", \"y\"))    \n",
    "print(first_before_second(\"precarious kangaroos\", \"k\", \"a\")) \n"
   ]
  },
  {
   "cell_type": "code",
   "execution_count": 3,
   "metadata": {},
   "outputs": [
    {
     "name": "stdout",
     "output_type": "stream",
     "text": [
      "[4, 8]\n",
      "EAI\n",
      "['A', 'B', 'T', 'A', 'I', 'Y']\n"
     ]
    }
   ],
   "source": [
    "##3. Char at Pos:\n",
    "def char_at_pos(data, specifier):\n",
    "    if specifier == \"odd\":\n",
    "        return data[::2]\n",
    "    elif specifier == \"even\":\n",
    "        return data[1::2]\n",
    "\n",
    "# Examples\n",
    "print(char_at_pos([2, 4, 6, 8, 10], \"even\"))  \n",
    "print(char_at_pos(\"EDABIT\", \"odd\"))           \n",
    "print(char_at_pos([\"A\", \"R\", \"B\", \"I\", \"T\", \"R\", \"A\", \"R\", \"I\", \"L\", \"Y\"], \"odd\")) \n"
   ]
  },
  {
   "cell_type": "code",
   "execution_count": 4,
   "metadata": {},
   "outputs": [
    {
     "name": "stdout",
     "output_type": "stream",
     "text": [
      "10\n",
      "1\n",
      "64\n"
     ]
    }
   ],
   "source": [
    "##4. Greatest Common Divisor (GCD):\n",
    "from math import gcd\n",
    "\n",
    "def GCD(lst):\n",
    "    result = lst[0]\n",
    "    for num in lst[1:]:\n",
    "        result = gcd(result, num)\n",
    "        if result == 1:\n",
    "            return 1\n",
    "    return result\n",
    "\n",
    "# Examples\n",
    "print(GCD([10, 20, 40]))       \n",
    "print(GCD([1, 2, 3, 100]))     \n",
    "print(GCD([1024, 192, 2048, 512]))  \n"
   ]
  },
  {
   "cell_type": "code",
   "execution_count": 5,
   "metadata": {},
   "outputs": [
    {
     "name": "stdout",
     "output_type": "stream",
     "text": [
      "Decimal only.\n",
      "Binary only.\n",
      "Decimal and binary.\n",
      "Neither!\n"
     ]
    }
   ],
   "source": [
    "##5. Palindrome Type:\n",
    "def palindrome_type(n):\n",
    "    decimal_str = str(n)\n",
    "    binary_str = bin(n)[2:]\n",
    "    \n",
    "    if decimal_str == decimal_str[::-1] and binary_str == binary_str[::-1]:\n",
    "        return \"Decimal and binary.\"\n",
    "    elif decimal_str == decimal_str[::-1]:\n",
    "        return \"Decimal only.\"\n",
    "    elif binary_str == binary_str[::-1]:\n",
    "        return \"Binary only.\"\n",
    "    else:\n",
    "        return \"Neither!\"\n",
    "\n",
    "# Examples\n",
    "print(palindrome_type(1306031)) \n",
    "print(palindrome_type(427787))  \n",
    "print(palindrome_type(313))  \n",
    "print(palindrome_type(934))  \n"
   ]
  },
  {
   "cell_type": "code",
   "execution_count": null,
   "metadata": {},
   "outputs": [],
   "source": []
  }
 ],
 "metadata": {
  "kernelspec": {
   "display_name": "Python 3",
   "language": "python",
   "name": "python3"
  },
  "language_info": {
   "codemirror_mode": {
    "name": "ipython",
    "version": 3
   },
   "file_extension": ".py",
   "mimetype": "text/x-python",
   "name": "python",
   "nbconvert_exporter": "python",
   "pygments_lexer": "ipython3",
   "version": "3.8.5"
  }
 },
 "nbformat": 4,
 "nbformat_minor": 4
}
