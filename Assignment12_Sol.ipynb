{
 "cells": [
  {
   "cell_type": "code",
   "execution_count": 1,
   "metadata": {},
   "outputs": [
    {
     "name": "stdout",
     "output_type": "stream",
     "text": [
      "515\n",
      "1103\n",
      "31499\n"
     ]
    }
   ],
   "source": [
    "##1. Meme Sum:\n",
    "def meme_sum(num1, num2):\n",
    "    str_num1, str_num2 = str(num1), str(num2)\n",
    "    max_len = max(len(str_num1), len(str_num2))\n",
    "    \n",
    "    str_num1 = str_num1.zfill(max_len)\n",
    "    str_num2 = str_num2.zfill(max_len)\n",
    "    \n",
    "    result = ''\n",
    "    for digit1, digit2 in zip(str_num1, str_num2):\n",
    "        result += str(int(digit1) + int(digit2))\n",
    "    \n",
    "    return int(result)\n",
    "\n",
    "# Examples\n",
    "print(meme_sum(26, 39))  \n",
    "print(meme_sum(122, 81))  \n",
    "print(meme_sum(1222, 30277)) \n"
   ]
  },
  {
   "cell_type": "code",
   "execution_count": 2,
   "metadata": {},
   "outputs": [
    {
     "name": "stdout",
     "output_type": "stream",
     "text": [
      "13\n",
      "29\n",
      "13\n"
     ]
    }
   ],
   "source": [
    "##2. Next Prime:\n",
    "def is_prime(num):\n",
    "    if num < 2:\n",
    "        return False\n",
    "    for i in range(2, int(num**0.5) + 1):\n",
    "        if num % i == 0:\n",
    "            return False\n",
    "    return True\n",
    "\n",
    "def next_prime(num):\n",
    "    while True:\n",
    "        num += 1\n",
    "        if is_prime(num):\n",
    "            return num\n",
    "\n",
    "# Examples\n",
    "print(next_prime(12)) \n",
    "print(next_prime(24)) \n",
    "print(next_prime(11)) \n"
   ]
  },
  {
   "cell_type": "code",
   "execution_count": 3,
   "metadata": {},
   "outputs": [
    {
     "name": "stdout",
     "output_type": "stream",
     "text": [
      "15\n",
      "7\n",
      "6\n"
     ]
    }
   ],
   "source": [
    "##3. Average Speed:\n",
    "def ave_spd(uphill_time, uphill_rate, downhill_rate):\n",
    "    total_time = uphill_time + uphill_time * (uphill_rate / downhill_rate)\n",
    "    total_distance = uphill_time * uphill_rate\n",
    "    return int(total_distance / total_time)\n",
    "\n",
    "# Examples\n",
    "print(ave_spd(18, 20, 60))\n",
    "print(ave_spd(30, 10, 30))  \n",
    "print(ave_spd(30, 8, 24))  \n"
   ]
  },
  {
   "cell_type": "code",
   "execution_count": 4,
   "metadata": {},
   "outputs": [
    {
     "name": "stdout",
     "output_type": "stream",
     "text": [
      "3\n",
      "5\n",
      "2\n"
     ]
    }
   ],
   "source": [
    "##4. Kempner Function:\n",
    "def kempner(n):\n",
    "    result = 1\n",
    "    for i in range(1, n+1):\n",
    "        result *= i\n",
    "        if result % n == 0:\n",
    "            return i\n",
    "\n",
    "# Examples\n",
    "print(kempner(6))  \n",
    "print(kempner(10))  \n",
    "print(kempner(2)) \n"
   ]
  },
  {
   "cell_type": "code",
   "execution_count": 5,
   "metadata": {},
   "outputs": [
    {
     "name": "stdout",
     "output_type": "stream",
     "text": [
      "5\n"
     ]
    }
   ],
   "source": [
    "##5. Boxes:\n",
    "def boxes(weights):\n",
    "    total_weight = 0\n",
    "    box_count = 0\n",
    "    for weight in weights:\n",
    "        total_weight += weight\n",
    "        if total_weight > 10:\n",
    "            box_count += 1\n",
    "            total_weight = weight\n",
    "    if total_weight > 0:\n",
    "        box_count += 1\n",
    "    return box_count\n",
    "\n",
    "# Example\n",
    "print(boxes([2, 1, 2, 5, 4, 3, 6, 1, 1, 9, 3, 2])) \n"
   ]
  },
  {
   "cell_type": "code",
   "execution_count": null,
   "metadata": {},
   "outputs": [],
   "source": []
  }
 ],
 "metadata": {
  "kernelspec": {
   "display_name": "Python 3",
   "language": "python",
   "name": "python3"
  },
  "language_info": {
   "codemirror_mode": {
    "name": "ipython",
    "version": 3
   },
   "file_extension": ".py",
   "mimetype": "text/x-python",
   "name": "python",
   "nbconvert_exporter": "python",
   "pygments_lexer": "ipython3",
   "version": "3.8.5"
  }
 },
 "nbformat": 4,
 "nbformat_minor": 4
}
