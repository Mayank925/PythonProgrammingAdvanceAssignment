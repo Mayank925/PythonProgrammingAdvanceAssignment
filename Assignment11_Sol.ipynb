{
 "cells": [
  {
   "cell_type": "code",
   "execution_count": 1,
   "metadata": {},
   "outputs": [
    {
     "name": "stdout",
     "output_type": "stream",
     "text": [
      "[7, 3, 11]\n",
      "[10007, 1009]\n",
      "[1009, 3, 61, 1087, 1091, 1093, 1097]\n"
     ]
    }
   ],
   "source": [
    "##1. Filter Primes:\n",
    "def is_prime(num):\n",
    "    if num < 2:\n",
    "        return False\n",
    "    for i in range(2, int(num**0.5) + 1):\n",
    "        if num % i == 0:\n",
    "            return False\n",
    "    return True\n",
    "\n",
    "def filter_primes(lst):\n",
    "    return [num for num in lst if is_prime(num)]\n",
    "\n",
    "# Examples\n",
    "print(filter_primes([7, 9, 3, 9, 10, 11, 27]))    \n",
    "print(filter_primes([10007, 1009, 1007, 27, 147, 77, 1001, 70])) \n",
    "print(filter_primes([1009, 10, 10, 10, 3, 33, 9, 4, 1, 61, 63, 69, 1087, 1091, 1093, 1097]))\n"
   ]
  },
  {
   "cell_type": "code",
   "execution_count": 2,
   "metadata": {},
   "outputs": [
    {
     "name": "stdout",
     "output_type": "stream",
     "text": [
      "[4, 3, 2, 1, 0, 1, 2, 3, 4]\n",
      "[3, 2, 1, 0, 1, 2, 3]\n",
      "[2, 1, 0, 1, 2]\n",
      "[0]\n"
     ]
    }
   ],
   "source": [
    "##2. Pop Water Balloon:\n",
    "def pop(lst):\n",
    "    if not any(lst):\n",
    "        return lst\n",
    "    size = lst.index(max(lst))\n",
    "    return [abs(i - size) for i in range(len(lst))]\n",
    "\n",
    "# Examples\n",
    "print(pop([0, 0, 0, 0, 4, 0, 0, 0, 0]))  \n",
    "print(pop([0, 0, 0, 3, 0, 0, 0])) \n",
    "print(pop([0, 0, 2, 0, 0]))\n",
    "print(pop([0]))  \n"
   ]
  },
  {
   "cell_type": "code",
   "execution_count": 3,
   "metadata": {},
   "outputs": [
    {
     "name": "stdout",
     "output_type": "stream",
     "text": [
      "Loves me, Loves me not, LOVES ME\n",
      "Loves me, Loves me not, Loves me, Loves me not, Loves me, LOVES ME NOT\n",
      "LOVES ME\n"
     ]
    }
   ],
   "source": [
    "##3. Loves Me, Loves Me Not:\n",
    "def loves_me(petals):\n",
    "    result = []\n",
    "    for i in range(1, petals + 1):\n",
    "        result.append(\"Loves me\" if i % 2 == 1 else \"Loves me not\")\n",
    "    result[-1] = result[-1].upper()\n",
    "    return \", \".join(result)\n",
    "\n",
    "# Examples\n",
    "print(loves_me(3))  \n",
    "print(loves_me(6)) \n",
    "print(loves_me(1)) \n"
   ]
  },
  {
   "cell_type": "code",
   "execution_count": 4,
   "metadata": {},
   "outputs": [
    {
     "name": "stdout",
     "output_type": "stream",
     "text": [
      "['2344b', '932c', '832u32']\n",
      "['99a', '78b', 'c2345', '11d']\n",
      "['304q2', '5y5', '572z']\n",
      "[]\n"
     ]
    }
   ],
   "source": [
    "##4. Sort by Letter:\n",
    "def sort_by_letter(lst):\n",
    "    return sorted(lst, key=lambda s: [c for c in s if c.isalpha()])\n",
    "\n",
    "# Examples\n",
    "print(sort_by_letter([\"932c\", \"832u32\", \"2344b\"]))  \n",
    "print(sort_by_letter([\"99a\", \"78b\", \"c2345\", \"11d\"]))  \n",
    "print(sort_by_letter([\"572z\", \"5y5\", \"304q2\"])) \n",
    "print(sort_by_letter([]))\n"
   ]
  },
  {
   "cell_type": "code",
   "execution_count": 5,
   "metadata": {},
   "outputs": [
    {
     "name": "stdout",
     "output_type": "stream",
     "text": [
      "C\n"
     ]
    }
   ],
   "source": [
    "##5. Cup Swapping:\n",
    "def cup_swapping(swaps):\n",
    "    ball_position = \"B\"\n",
    "    for swap in swaps:\n",
    "        if ball_position in swap:\n",
    "            ball_position = swap.replace(ball_position, \"\")\n",
    "    return ball_position\n",
    "\n",
    "# Example\n",
    "print(cup_swapping([\"AB\", \"CA\", \"AB\"])) \n"
   ]
  },
  {
   "cell_type": "code",
   "execution_count": null,
   "metadata": {},
   "outputs": [],
   "source": []
  }
 ],
 "metadata": {
  "kernelspec": {
   "display_name": "Python 3",
   "language": "python",
   "name": "python3"
  },
  "language_info": {
   "codemirror_mode": {
    "name": "ipython",
    "version": 3
   },
   "file_extension": ".py",
   "mimetype": "text/x-python",
   "name": "python",
   "nbconvert_exporter": "python",
   "pygments_lexer": "ipython3",
   "version": "3.8.5"
  }
 },
 "nbformat": 4,
 "nbformat_minor": 4
}
