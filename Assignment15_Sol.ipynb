{
 "cells": [
  {
   "cell_type": "code",
   "execution_count": 1,
   "metadata": {},
   "outputs": [
    {
     "name": "stdout",
     "output_type": "stream",
     "text": [
      "True\n",
      "True\n",
      "False\n",
      "False\n"
     ]
    }
   ],
   "source": [
    "##1. Anagram:\n",
    "def anagram(name, words):\n",
    "    name_chars = [char.lower() for char in name if char.isalpha()]\n",
    "    word_chars = [char.lower() for word in words for char in word if char.isalpha()]\n",
    "    return sorted(name_chars) == sorted(word_chars)\n",
    "\n",
    "# Examples\n",
    "print(anagram(\"Justin Bieber\", [\"injures\", \"ebb\", \"it\"]))\n",
    "print(anagram(\"Natalie Portman\", [\"ornamental\", \"pita\"]))\n",
    "print(anagram(\"Chris Pratt\", [\"chirps\", \"rat\"])) \n",
    "print(anagram(\"Jeff Goldblum\", [\"jog\", \"meld\", \"bluffs\"])) \n"
   ]
  },
  {
   "cell_type": "code",
   "execution_count": 2,
   "metadata": {},
   "outputs": [
    {
     "name": "stdout",
     "output_type": "stream",
     "text": [
      "[{'name': 'c', 'score': 115, 'reputation': 30}, {'name': 'b', 'score': 90, 'reputation': 40}, {'name': 'a', 'score': 100, 'reputation': 20}]\n"
     ]
    }
   ],
   "source": [
    "##2. Leaderboards:\n",
    "def leaderboards(users):\n",
    "    users.sort(key=lambda x: x[\"score\"] + 2 * x[\"reputation\"], reverse=True)\n",
    "    return users\n",
    "\n",
    "# Example\n",
    "print(leaderboards([\n",
    "  { \"name\": \"a\", \"score\": 100, \"reputation\": 20 },\n",
    "  { \"name\": \"b\", \"score\": 90, \"reputation\": 40 },\n",
    "  { \"name\": \"c\", \"score\": 115, \"reputation\": 30 },\n",
    "]))"
   ]
  },
  {
   "cell_type": "code",
   "execution_count": 3,
   "metadata": {},
   "outputs": [
    {
     "name": "stdout",
     "output_type": "stream",
     "text": [
      "-e---o--e-\n",
      "tree\n",
      "P----n r----\n",
      "-e'- a -e-y -a----y --y!\n"
     ]
    }
   ],
   "source": [
    "##3. Hangman:\n",
    "def hangman(phrase, guessed):\n",
    "    return ''.join([char if char.lower() in guessed else ('-' if char.isalpha() else char) for char in phrase])\n",
    "\n",
    "# Examples\n",
    "print(hangman(\"helicopter\", [\"o\", \"e\", \"s\"])) \n",
    "print(hangman(\"tree\", [\"r\", \"t\", \"e\"])) \n",
    "print(hangman(\"Python rules\", [\"a\", \"n\", \"p\", \"r\", \"z\"]))  \n",
    "print(hangman(\"He's a very naughty boy!\", [\"e\", \"a\", \"y\"]))\n"
   ]
  },
  {
   "cell_type": "code",
   "execution_count": 4,
   "metadata": {},
   "outputs": [
    {
     "name": "stdout",
     "output_type": "stream",
     "text": [
      "16\n",
      "32\n",
      "256\n"
     ]
    }
   ],
   "source": [
    "##4. Max Collatz:\n",
    "def max_collatz(n):\n",
    "    max_val = n\n",
    "    while n != 1:\n",
    "        if n % 2 == 0:\n",
    "            n = n // 2\n",
    "        else:\n",
    "            n = 3 * n + 1\n",
    "        max_val = max(max_val, n)\n",
    "    return max_val\n",
    "\n",
    "# Examples\n",
    "print(max_collatz(10))  \n",
    "print(max_collatz(32))  \n",
    "print(max_collatz(85))  \n"
   ]
  },
  {
   "cell_type": "code",
   "execution_count": 5,
   "metadata": {},
   "outputs": [
    {
     "name": "stdout",
     "output_type": "stream",
     "text": [
      "[101, 77, 23, 7, 5]\n",
      "[789, 563, 444, 9, 5, 2, 1]\n",
      "[53219, 3772, 564, 32, 1]\n"
     ]
    }
   ],
   "source": [
    "##5. Digit Sort:\n",
    "def digit_sort(lst):\n",
    "    return sorted(lst, key=lambda x: (len(str(x)), x), reverse=True)\n",
    "\n",
    "# Examples\n",
    "print(digit_sort([77, 23, 5, 7, 101]))   \n",
    "print(digit_sort([1, 5, 9, 2, 789, 563, 444]))  \n",
    "print(digit_sort([53219, 3772, 564, 32, 1])) \n"
   ]
  },
  {
   "cell_type": "code",
   "execution_count": null,
   "metadata": {},
   "outputs": [],
   "source": []
  }
 ],
 "metadata": {
  "kernelspec": {
   "display_name": "Python 3",
   "language": "python",
   "name": "python3"
  },
  "language_info": {
   "codemirror_mode": {
    "name": "ipython",
    "version": 3
   },
   "file_extension": ".py",
   "mimetype": "text/x-python",
   "name": "python",
   "nbconvert_exporter": "python",
   "pygments_lexer": "ipython3",
   "version": "3.8.5"
  }
 },
 "nbformat": 4,
 "nbformat_minor": 4
}
