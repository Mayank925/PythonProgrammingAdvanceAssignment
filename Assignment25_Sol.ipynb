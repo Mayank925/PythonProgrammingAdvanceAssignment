{
 "cells": [
  {
   "cell_type": "code",
   "execution_count": 1,
   "metadata": {},
   "outputs": [
    {
     "name": "stdout",
     "output_type": "stream",
     "text": [
      "[1, 2, 3, 4, 1, 2, 3, 4, 1, 2, 3, 4]\n",
      "[1, 2, 3, 4, 1, 2, 3, 4, 1, 2, 3, 4, 1]\n",
      "[1]\n",
      "[1, 3, 4]\n"
     ]
    }
   ],
   "source": [
    "##1. Mutating List Functions:\n",
    "def repeat(lst, n):\n",
    "    lst *= n\n",
    "\n",
    "def add(lst, x):\n",
    "    lst.append(x)\n",
    "\n",
    "def remove(lst, m, n):\n",
    "    del lst[m:n+1]\n",
    "\n",
    "def concat(lst, x):\n",
    "    lst.extend(x)\n",
    "\n",
    "# Examples\n",
    "lst = [1, 2, 3, 4]\n",
    "repeat(lst, 3)\n",
    "print(lst)  \n",
    "\n",
    "add(lst, 1)\n",
    "print(lst) \n",
    "\n",
    "remove(lst, 1, 12)\n",
    "print(lst) \n",
    "\n",
    "concat(lst, [3, 4])\n",
    "print(lst)  \n"
   ]
  },
  {
   "cell_type": "code",
   "execution_count": 2,
   "metadata": {},
   "outputs": [
    {
     "name": "stdout",
     "output_type": "stream",
     "text": [
      "{'black': 0, 'white': 0}\n",
      "{'black': 1, 'white': 3}\n",
      "{'black': 1, 'white': 3}\n",
      "{'black': 0, 'white': 4}\n"
     ]
    }
   ],
   "source": [
    "##2. Mastermind Game Score Function:\n",
    "def guess_score(code, guess):\n",
    "    result = {\"black\": 0, \"white\": 0}\n",
    "\n",
    "    for i in range(len(code)):\n",
    "        if code[i] == guess[i]:\n",
    "            result[\"black\"] += 1\n",
    "        elif guess[i] in code:\n",
    "            result[\"white\"] += 1\n",
    "\n",
    "    return result\n",
    "\n",
    "# Examples\n",
    "print(guess_score(\"1423\", \"5678\")) \n",
    "print(guess_score(\"1423\", \"2222\")) \n",
    "print(guess_score(\"1423\", \"1234\"))  \n",
    "print(guess_score(\"1423\", \"2211\")) \n"
   ]
  },
  {
   "cell_type": "code",
   "execution_count": 3,
   "metadata": {},
   "outputs": [
    {
     "name": "stdout",
     "output_type": "stream",
     "text": [
      "[4, 5]\n",
      "[2, 5]\n",
      "None\n"
     ]
    }
   ],
   "source": [
    "##3. Two Product Function:\n",
    "def two_product(lst, N):\n",
    "    for i in range(len(lst)):\n",
    "        for j in range(i + 1, len(lst)):\n",
    "            if lst[i] * lst[j] == N:\n",
    "                return [lst[i], lst[j]]\n",
    "    return None\n",
    "\n",
    "# Examples\n",
    "print(two_product([1, 2, -1, 4, 5], 20)) \n",
    "print(two_product([1, 2, 3, 4, 5], 10))  \n",
    "print(two_product([100, 12, 4, 1, 2], 15)) \n"
   ]
  },
  {
   "cell_type": "code",
   "execution_count": 4,
   "metadata": {},
   "outputs": [
    {
     "name": "stdout",
     "output_type": "stream",
     "text": [
      "['10-02-2016_12:30', '10-02-2018_12:15', '10-02-2018_12:30']\n",
      "['10-02-2018_12:30', '10-02-2018_12:15', '10-02-2016_12:30']\n",
      "['01-01-1999_00:55', '09-02-2000_10:03', '10-02-2000_18:29']\n"
     ]
    }
   ],
   "source": [
    "##4. Sort Dates Function:\n",
    "from datetime import datetime\n",
    "\n",
    "def sort_dates(lst, mode):\n",
    "    format_str = \"%d-%m-%Y_%H:%M\"\n",
    "    sorted_lst = sorted(lst, key=lambda x: datetime.strptime(x, format_str), reverse=(mode == \"DSC\"))\n",
    "    return sorted_lst\n",
    "\n",
    "# Examples\n",
    "print(sort_dates([\"10-02-2018_12:30\", \"10-02-2016_12:30\", \"10-02-2018_12:15\"], \"ASC\"))\n",
    "\n",
    "print(sort_dates([\"10-02-2018_12:30\", \"10-02-2016_12:30\", \"10-02-2018_12:15\"], \"DSC\"))\n",
    "\n",
    "print(sort_dates([\"09-02-2000_10:03\", \"10-02-2000_18:29\", \"01-01-1999_00:55\"], \"ASC\"))\n"
   ]
  },
  {
   "cell_type": "code",
   "execution_count": 5,
   "metadata": {},
   "outputs": [
    {
     "name": "stdout",
     "output_type": "stream",
     "text": [
      "['toe', 'ocelot']\n",
      "['many']\n",
      "['hoops', 'bot', 'bottom']\n"
     ]
    }
   ],
   "source": [
    "##5. Same Vowel Group Function:\n",
    "def same_vowel_group(words):\n",
    "    vowels = set(\"aeiou\")\n",
    "    first_word_vowels = set(word for word in words[0] if word in vowels)\n",
    "    return [word for word in words if set(char for char in word if char in vowels) == first_word_vowels]\n",
    "\n",
    "# Examples\n",
    "print(same_vowel_group([\"toe\", \"ocelot\", \"maniac\"]))  \n",
    "print(same_vowel_group([\"many\", \"carriage\", \"emit\", \"apricot\", \"animal\"])) \n",
    "print(same_vowel_group([\"hoops\", \"chuff\", \"bot\", \"bottom\"])) \n"
   ]
  },
  {
   "cell_type": "code",
   "execution_count": 6,
   "metadata": {},
   "outputs": [
    {
     "name": "stdout",
     "output_type": "stream",
     "text": [
      "2520\n",
      "27965340\n",
      "2333760\n"
     ]
    }
   ],
   "source": [
    "##6. Least Common Multiple Function:\n",
    "from math import gcd\n",
    "\n",
    "def lcm_of_list(lst):\n",
    "    def lcm(x, y):\n",
    "        return x * y // gcd(x, y)\n",
    "\n",
    "    result = 1\n",
    "    for num in lst:\n",
    "        result = lcm(result, num)\n",
    "    return result\n",
    "\n",
    "# Examples\n",
    "print(lcm_of_list([1, 2, 3, 4, 5, 6, 7, 8, 9, 10])) \n",
    "print(lcm_of_list([13, 6, 17, 18, 19, 20, 37]))\n",
    "print(lcm_of_list([44, 64, 12, 17, 65]))\n"
   ]
  },
  {
   "cell_type": "code",
   "execution_count": null,
   "metadata": {},
   "outputs": [],
   "source": []
  }
 ],
 "metadata": {
  "kernelspec": {
   "display_name": "Python 3",
   "language": "python",
   "name": "python3"
  },
  "language_info": {
   "codemirror_mode": {
    "name": "ipython",
    "version": 3
   },
   "file_extension": ".py",
   "mimetype": "text/x-python",
   "name": "python",
   "nbconvert_exporter": "python",
   "pygments_lexer": "ipython3",
   "version": "3.8.5"
  }
 },
 "nbformat": 4,
 "nbformat_minor": 4
}
