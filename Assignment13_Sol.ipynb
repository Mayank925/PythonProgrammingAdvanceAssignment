{
 "cells": [
  {
   "cell_type": "code",
   "execution_count": null,
   "metadata": {},
   "outputs": [],
   "source": [
    "##1. Remove Letters:\n",
    "def remove_letters(lst, string):\n",
    "    return [letter for letter in lst if letter not in string]\n",
    "\n",
    "# Examples\n",
    "print(remove_letters([\"s\", \"t\", \"r\", \"i\", \"n\", \"g\", \"w\"], \"string\"))  \n",
    "print(remove_letters([\"b\", \"b\", \"l\", \"l\", \"g\", \"n\", \"o\", \"a\", \"w\"], \"balloon\"))  \n",
    "print(remove_letters([\"d\", \"b\", \"t\", \"e\", \"a\", \"i\"], \"edabit\"))  \n"
   ]
  },
  {
   "cell_type": "code",
   "execution_count": null,
   "metadata": {},
   "outputs": [],
   "source": [
    "##2. Blocks:\n",
    "def blocks(step):\n",
    "    return (step * (step + 1) // 2) ** 2\n",
    "\n",
    "# Examples\n",
    "print(blocks(1))  \n",
    "print(blocks(5))  \n",
    "print(blocks(2))  \n"
   ]
  },
  {
   "cell_type": "code",
   "execution_count": null,
   "metadata": {},
   "outputs": [],
   "source": [
    "##3. Subtract Without Operators:\n",
    "def my_sub(a, b):\n",
    "    while b:\n",
    "        borrow = (~a) & b\n",
    "        a = a ^ b\n",
    "        b = borrow << 1\n",
    "    return a\n",
    "\n",
    "# Examples\n",
    "print(my_sub(5, 9))    # 4\n",
    "print(my_sub(10, 30))    # 20\n",
    "print(my_sub(0, 0))    # 0\n"
   ]
  },
  {
   "cell_type": "code",
   "execution_count": null,
   "metadata": {},
   "outputs": [],
   "source": [
    "##4. Add Bill:\n",
    "def add_bill(s):\n",
    "    bills = [int(part[1:]) * 1000 if part[-1] == 'k' else int(part[1:]) for part in s.split(',')]\n",
    "    return sum(bill for bill in bills if s.startswith('d'))\n",
    "\n",
    "# Examples\n",
    "print(add_bill(\"d20,p40,p60,d50\"))  \n",
    "print(add_bill(\"p30,d20,p60,d150,p360\"))  \n",
    "print(add_bill(\"p30,d2000,p60,d200,p360\"))  \n"
   ]
  },
  {
   "cell_type": "code",
   "execution_count": 3,
   "metadata": {},
   "outputs": [
    {
     "name": "stdout",
     "output_type": "stream",
     "text": [
      "[[1], [2], [3], [4]]\n",
      "[5, 6, 9]\n",
      "[]\n"
     ]
    }
   ],
   "source": [
    "##5. Flip List:\n",
    "def flip_list(lst):\n",
    "    return [item[0] if isinstance(item, list) else [item] for item in lst]\n",
    "\n",
    "# Examples\n",
    "print(flip_list([1, 2, 3, 4]))  \n",
    "print(flip_list([[5], [6], [9]])) \n",
    "print(flip_list([]))\n"
   ]
  },
  {
   "cell_type": "code",
   "execution_count": null,
   "metadata": {},
   "outputs": [],
   "source": []
  }
 ],
 "metadata": {
  "kernelspec": {
   "display_name": "Python 3",
   "language": "python",
   "name": "python3"
  },
  "language_info": {
   "codemirror_mode": {
    "name": "ipython",
    "version": 3
   },
   "file_extension": ".py",
   "mimetype": "text/x-python",
   "name": "python",
   "nbconvert_exporter": "python",
   "pygments_lexer": "ipython3",
   "version": "3.8.5"
  }
 },
 "nbformat": 4,
 "nbformat_minor": 4
}
