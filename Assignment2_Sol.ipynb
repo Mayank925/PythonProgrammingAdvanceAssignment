{
 "cells": [
  {
   "cell_type": "code",
   "execution_count": 1,
   "metadata": {},
   "outputs": [
    {
     "name": "stdout",
     "output_type": "stream",
     "text": [
      "1\n",
      "6\n",
      "16\n",
      "141\n"
     ]
    }
   ],
   "source": [
    "##Question 1:\n",
    "def pentagonal(num):\n",
    "    return 1 + (5 * num * (num - 1)) // 2\n",
    "\n",
    "# Examples\n",
    "print(pentagonal(1)) \n",
    "print(pentagonal(2))  \n",
    "print(pentagonal(3))\n",
    "print(pentagonal(8)) \n"
   ]
  },
  {
   "cell_type": "code",
   "execution_count": 2,
   "metadata": {},
   "outputs": [
    {
     "name": "stdout",
     "output_type": "stream",
     "text": [
      "0n0n0baca\n",
      "0c0r0kaca\n",
      "k0r3baca\n",
      "0c0pl0aca\n"
     ]
    }
   ],
   "source": [
    "##Question 2:\n",
    "def encrypt(word):\n",
    "    reversed_word = word[::-1]\n",
    "    vowel_replacements = {'a': '0', 'e': '1', 'i': '2', 'o': '2', 'u': '3'}\n",
    "    encrypted_word = ''.join(vowel_replacements[char] if char in vowel_replacements else char for char in reversed_word)\n",
    "    return encrypted_word + 'aca'\n",
    "\n",
    "# Examples\n",
    "print(encrypt(\"banana\")) \n",
    "print(encrypt(\"karaca\")) \n",
    "print(encrypt(\"burak\"))  \n",
    "print(encrypt(\"alpaca\")) \n"
   ]
  },
  {
   "cell_type": "code",
   "execution_count": 3,
   "metadata": {},
   "outputs": [
    {
     "name": "stdout",
     "output_type": "stream",
     "text": [
      "True\n",
      "True\n",
      "False\n"
     ]
    }
   ],
   "source": [
    "##Question 3:\n",
    "from datetime import datetime\n",
    "\n",
    "def has_friday_13(month, year):\n",
    "    return datetime(year, month, 13).weekday() == 4\n",
    "\n",
    "# Examples\n",
    "print(has_friday_13(3, 2020))  \n",
    "print(has_friday_13(10, 2017)) \n",
    "print(has_friday_13(1, 1985)) \n"
   ]
  },
  {
   "cell_type": "code",
   "execution_count": 4,
   "metadata": {},
   "outputs": [
    {
     "name": "stdout",
     "output_type": "stream",
     "text": [
      "2\n"
     ]
    }
   ],
   "source": [
    "##Question 4:\n",
    "import re\n",
    "\n",
    "lst = [\"bad cookie\", \"good cookie\", \"bad cookie\", \"good cookie\", \"good cookie\"]\n",
    "pattern = r'(?<!good )cookie'\n",
    "bad_cookies_count = len(re.findall(pattern, \", \".join(lst)))\n",
    "print(bad_cookies_count) \n"
   ]
  },
  {
   "cell_type": "code",
   "execution_count": 5,
   "metadata": {},
   "outputs": [
    {
     "name": "stdout",
     "output_type": "stream",
     "text": [
      "{'cows', 'pig'}\n",
      "{'tables'}\n",
      "{'arm', 'chair', 'pencil'}\n"
     ]
    }
   ],
   "source": [
    "##Question 5:\n",
    "from collections import Counter\n",
    "\n",
    "def pluralize(words):\n",
    "    word_counts = Counter(words)\n",
    "    return {word + 's' if count > 1 else word for word, count in word_counts.items()}\n",
    "\n",
    "# Examples\n",
    "print(pluralize([\"cow\", \"pig\", \"cow\", \"cow\"]))   \n",
    "print(pluralize([\"table\", \"table\", \"table\"]))  \n",
    "print(pluralize([\"chair\", \"pencil\", \"arm\"]))    \n"
   ]
  },
  {
   "cell_type": "code",
   "execution_count": null,
   "metadata": {},
   "outputs": [],
   "source": []
  }
 ],
 "metadata": {
  "kernelspec": {
   "display_name": "Python 3",
   "language": "python",
   "name": "python3"
  },
  "language_info": {
   "codemirror_mode": {
    "name": "ipython",
    "version": 3
   },
   "file_extension": ".py",
   "mimetype": "text/x-python",
   "name": "python",
   "nbconvert_exporter": "python",
   "pygments_lexer": "ipython3",
   "version": "3.8.5"
  }
 },
 "nbformat": 4,
 "nbformat_minor": 4
}
