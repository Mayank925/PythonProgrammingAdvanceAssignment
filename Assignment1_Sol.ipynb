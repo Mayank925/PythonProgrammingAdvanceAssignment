{
 "cells": [
  {
   "cell_type": "code",
   "execution_count": 1,
   "metadata": {},
   "outputs": [
    {
     "name": "stdout",
     "output_type": "stream",
     "text": [
      "2\n",
      "0\n"
     ]
    }
   ],
   "source": [
    "##Question 1:\n",
    "def check_score(lst):\n",
    "    score = 0\n",
    "    for row in lst:\n",
    "        for symbol in row:\n",
    "            if symbol == \"#\":\n",
    "                score += 5\n",
    "            elif symbol == \"O\":\n",
    "                score += 3\n",
    "            elif symbol == \"X\":\n",
    "                score += 1\n",
    "            elif symbol == \"!\":\n",
    "                score -= 1\n",
    "            elif symbol == \"!!\":\n",
    "                score -= 3\n",
    "            elif symbol == \"!!!\":\n",
    "                score -= 5\n",
    "    return max(0, score)\n",
    "\n",
    "# Examples\n",
    "print(check_score([\n",
    "  [\"#\", \"!\"],\n",
    "  [\"!!\", \"X\"]\n",
    "])) \n",
    "\n",
    "print(check_score([\n",
    "  [\"!!!\", \"O\", \"!\"],\n",
    "  [\"X\", \"#\", \"!!!\"],\n",
    "  [\"!!\", \"X\", \"O\"]\n",
    "])) \n"
   ]
  },
  {
   "cell_type": "code",
   "execution_count": 2,
   "metadata": {},
   "outputs": [
    {
     "name": "stdout",
     "output_type": "stream",
     "text": [
      "6\n",
      "84\n",
      "120\n"
     ]
    }
   ],
   "source": [
    "##Question 2:\n",
    "from math import prod\n",
    "\n",
    "def combinations(*args):\n",
    "    return prod(args)\n",
    "\n",
    "# Examples\n",
    "print(combinations(2, 3))        \n",
    "print(combinations(3, 7, 4))     \n",
    "print(combinations(2, 3, 4, 5))  \n"
   ]
  },
  {
   "cell_type": "code",
   "execution_count": 3,
   "metadata": {},
   "outputs": [
    {
     "name": "stdout",
     "output_type": "stream",
     "text": [
      ". -.. .- -... -... .. -   -.-. .... .- .-.. .-.. . -. --. .\n",
      ".... . .-.. .--.   -- .   -.-.--\n"
     ]
    }
   ],
   "source": [
    "##Question 3:\n",
    "def encode_morse(s):\n",
    "    char_to_dots = {\n",
    "      'A': '.-', 'B': '-...', 'C': '-.-.', 'D': '-..', 'E': '.', 'F': '..-.',\n",
    "      'G': '--.', 'H': '....', 'I': '..', 'J': '.---', 'K': '-.-', 'L': '.-..',\n",
    "      'M': '--', 'N': '-.', 'O': '---', 'P': '.--.', 'Q': '--.-', 'R': '.-.',\n",
    "      'S': '...', 'T': '-', 'U': '..-', 'V': '...-', 'W': '.--', 'X': '-..-',\n",
    "      'Y': '-.--', 'Z': '--..', ' ': ' ', '0': '-----',\n",
    "      '1': '.----', '2': '..---', '3': '...--', '4': '....-', '5': '.....',\n",
    "      '6': '-....', '7': '--...', '8': '---..', '9': '----.',\n",
    "      '&': '.-...', \"'\": '.----.', '@': '.--.-.', ')': '-.--.-', '(': '-.--.',\n",
    "      ':': '---...', ',': '--..--', '=': '-...-', '!': '-.-.--', '.': '.-.-.-',\n",
    "      '-': '-....-', '+': '.-.-.', '\"': '.-..-.', '?': '..--..', '/': '-..-.'\n",
    "    }\n",
    "    return ' '.join(char_to_dots[char] for char in s)\n",
    "\n",
    "# Examples\n",
    "print(encode_morse(\"EDABBIT CHALLENGE\"))\n",
    "\n",
    "print(encode_morse(\"HELP ME !\"))\n",
    "\n"
   ]
  },
  {
   "cell_type": "code",
   "execution_count": 4,
   "metadata": {},
   "outputs": [
    {
     "name": "stdout",
     "output_type": "stream",
     "text": [
      "True\n",
      "True\n",
      "False\n"
     ]
    }
   ],
   "source": [
    "##Question 4:\n",
    "def prime(n):\n",
    "    if n < 2:\n",
    "        return False\n",
    "    for i in range(2, int(n**0.5) + 1):\n",
    "        if n % i == 0:\n",
    "            return False\n",
    "    return True\n",
    "\n",
    "# Examples\n",
    "print(prime(7))          \n",
    "print(prime(56963))     \n",
    "print(prime(5151512515524)) \n"
   ]
  },
  {
   "cell_type": "code",
   "execution_count": 5,
   "metadata": {},
   "outputs": [
    {
     "name": "stdout",
     "output_type": "stream",
     "text": [
      "[False, True, True, False]\n",
      "[False, True, False, True, True]\n",
      "[False, True, True, False]\n"
     ]
    }
   ],
   "source": [
    "##Question 5:\n",
    "def to_boolean_list(word):\n",
    "    return [bool((ord(char.lower()) - 96) % 2) for char in word]\n",
    "\n",
    "# Examples\n",
    "print(to_boolean_list(\"deep\")) \n",
    "print(to_boolean_list(\"loves\"))\n",
    "print(to_boolean_list(\"tesh\")) \n"
   ]
  },
  {
   "cell_type": "code",
   "execution_count": null,
   "metadata": {},
   "outputs": [],
   "source": []
  }
 ],
 "metadata": {
  "kernelspec": {
   "display_name": "Python 3",
   "language": "python",
   "name": "python3"
  },
  "language_info": {
   "codemirror_mode": {
    "name": "ipython",
    "version": 3
   },
   "file_extension": ".py",
   "mimetype": "text/x-python",
   "name": "python",
   "nbconvert_exporter": "python",
   "pygments_lexer": "ipython3",
   "version": "3.8.5"
  }
 },
 "nbformat": 4,
 "nbformat_minor": 4
}
