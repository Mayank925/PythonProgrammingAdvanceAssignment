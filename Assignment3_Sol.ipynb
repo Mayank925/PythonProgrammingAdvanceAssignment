{
 "cells": [
  {
   "cell_type": "code",
   "execution_count": 1,
   "metadata": {},
   "outputs": [
    {
     "name": "stdout",
     "output_type": "stream",
     "text": [
      "24\n",
      "0\n",
      "144\n",
      "-1\n"
     ]
    }
   ],
   "source": [
    "##Question 1:\n",
    "def arithmetic_operation(s):\n",
    "    num1, op, num2 = s.split()\n",
    "    num1, num2 = int(num1), int(num2)\n",
    "    \n",
    "    if op == '+':\n",
    "        return num1 + num2\n",
    "    elif op == '-':\n",
    "        return num1 - num2\n",
    "    elif op == '*':\n",
    "        return num1 * num2\n",
    "    elif op == '//':\n",
    "        return num1 // num2 if num2 != 0 else -1\n",
    "\n",
    "# Examples\n",
    "print(arithmetic_operation(\"12 + 12\")) \n",
    "print(arithmetic_operation(\"12 - 12\")) \n",
    "print(arithmetic_operation(\"12 * 12\")) \n",
    "print(arithmetic_operation(\"12 // 0\")) \n"
   ]
  },
  {
   "cell_type": "code",
   "execution_count": 2,
   "metadata": {},
   "outputs": [
    {
     "name": "stdout",
     "output_type": "stream",
     "text": [
      "47.08\n",
      "3.41\n",
      "68.28\n"
     ]
    }
   ],
   "source": [
    "##Question 2:\n",
    "import math\n",
    "\n",
    "def perimeter(points):\n",
    "    distance = lambda p1, p2: math.sqrt((p2[0] - p1[0])**2 + (p2[1] - p1[1])**2)\n",
    "    return round(sum(distance(points[i], points[(i + 1) % 3]) for i in range(3)), 2)\n",
    "\n",
    "# Examples\n",
    "print(perimeter([[15, 7], [5, 22], [11, 1]]))  \n",
    "print(perimeter([[0, 0], [0, 1], [1, 0]]))    \n",
    "print(perimeter([[-10, -10], [10, 10 ], [-10, 10]])) \n"
   ]
  },
  {
   "cell_type": "code",
   "execution_count": 3,
   "metadata": {},
   "outputs": [
    {
     "name": "stdout",
     "output_type": "stream",
     "text": [
      "3\n",
      "4\n",
      "2\n"
     ]
    }
   ],
   "source": [
    "##Question 3:\n",
    "def tallest_skyscraper(skyline):\n",
    "    return max(sum(column) for column in zip(*skyline))\n",
    "\n",
    "# Examples\n",
    "print(tallest_skyscraper([[0, 0, 0, 0], [0, 1, 0, 0], [0, 1, 1, 0], [1, 1, 1, 1]]))  \n",
    "print(tallest_skyscraper([[0, 1, 0, 0], [0, 1, 0, 0], [0, 1, 1, 0], [1, 1, 1, 1]]))  \n",
    "print(tallest_skyscraper([[0, 0, 0, 0], [0, 0, 0, 0], [1, 1, 1, 0], [1, 1, 1, 1]]))  \n"
   ]
  },
  {
   "cell_type": "code",
   "execution_count": 5,
   "metadata": {},
   "outputs": [
    {
     "name": "stdout",
     "output_type": "stream",
     "text": [
      "0\n",
      "1625\n",
      "8200\n"
     ]
    }
   ],
   "source": [
    "##Question 4:\n",
    "def bonus(billable_days):\n",
    "    if billable_days <= 32:\n",
    "        return 0\n",
    "    elif 33 <= billable_days <= 40:\n",
    "        return (billable_days - 32) * 325\n",
    "    elif 41 <= billable_days <= 48:\n",
    "        return 8 * 325 + (billable_days - 40) * 550\n",
    "    else:\n",
    "        return 8 * 325 + 8 * 550 + (billable_days - 48) * 600\n",
    "\n",
    "# Examples\n",
    "print(bonus(15)) \n",
    "print(bonus(37)) \n",
    "print(bonus(50)) \n"
   ]
  },
  {
   "cell_type": "code",
   "execution_count": 4,
   "metadata": {},
   "outputs": [
    {
     "name": "stdout",
     "output_type": "stream",
     "text": [
      "False\n",
      "True\n",
      "False\n",
      "True\n",
      "False\n",
      "True\n"
     ]
    }
   ],
   "source": [
    "##Question 5:\n",
    "def is_disarium(num):\n",
    "    digits = [int(digit) for digit in str(num)]\n",
    "    return num == sum(digit ** (i + 1) for i, digit in enumerate(digits))\n",
    "\n",
    "# Examples\n",
    "print(is_disarium(75))   \n",
    "print(is_disarium(135))  \n",
    "print(is_disarium(544))  \n",
    "print(is_disarium(518))  \n",
    "print(is_disarium(466))  \n",
    "print(is_disarium(8))    \n"
   ]
  },
  {
   "cell_type": "code",
   "execution_count": null,
   "metadata": {},
   "outputs": [],
   "source": []
  }
 ],
 "metadata": {
  "kernelspec": {
   "display_name": "Python 3",
   "language": "python",
   "name": "python3"
  },
  "language_info": {
   "codemirror_mode": {
    "name": "ipython",
    "version": 3
   },
   "file_extension": ".py",
   "mimetype": "text/x-python",
   "name": "python",
   "nbconvert_exporter": "python",
   "pygments_lexer": "ipython3",
   "version": "3.8.5"
  }
 },
 "nbformat": 4,
 "nbformat_minor": 4
}
